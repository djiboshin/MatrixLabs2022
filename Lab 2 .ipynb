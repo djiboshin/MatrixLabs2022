{
 "cells": [
  {
   "cell_type": "code",
   "execution_count": 1,
   "id": "2b7e0a5b",
   "metadata": {},
   "outputs": [],
   "source": [
    "# import MatrixLib\n",
    "from MatrixLib import *\n",
    "from importlib import reload\n",
    "import numpy as np\n",
    "import numbers\n",
    "from fractions import Fraction\n"
   ]
  },
  {
   "cell_type": "markdown",
   "id": "af456a63",
   "metadata": {},
   "source": [
    "Общая канва:\n",
    "* Ввел алгебру (или поле или ВП, не знаю точно) с единицей и нулем, что позволило рекурсивно обрабатывать любую вложенность матриц любых типов\n",
    "* Ввел <code>\\_\\_eq__</code>, <code>\\_\\_neg__</code>,  <code>\\_\\_truediv__</code>\n",
    "* <code>\\_\\_abs__</code> действует аналогично нумпаю\n",
    "* <code>\\_\\_sub__</code>, <code>\\_\\_add__</code>, <code>\\_\\_rsub__</code> действуют по правилу $A-1 = A- 1E$, где $E$ -- единичный элемент. Такое определение позволило отождествить $E$ и $1$, $0$ и $O$.\n",
    "* <code>.norm(norm='F')</code> возвращает норму матрицы, F -- фробениуса. Это необходимо, чтобы использовать LUP разложение на волженных матрицах\n",
    "* Транспонирование <code>.T</code> учитывает вложенность матриц"
   ]
  },
  {
   "cell_type": "code",
   "execution_count": null,
   "id": "de69429b",
   "metadata": {},
   "outputs": [],
   "source": []
  },
  {
   "cell_type": "markdown",
   "id": "65a61ec6",
   "metadata": {},
   "source": [
    "# 1 Напишите метод lu для класса Matrix, выполняющий LU разложение."
   ]
  },
  {
   "cell_type": "code",
   "execution_count": 2,
   "id": "1cbf31c8",
   "metadata": {
    "scrolled": false
   },
   "outputs": [
    {
     "data": {
      "text/plain": [
       "| 2.0 2.0 |\n",
       "| 1.0 2.0 |"
      ]
     },
     "execution_count": 2,
     "metadata": {},
     "output_type": "execute_result"
    }
   ],
   "source": [
    "m = FullMatrix(np.array([[2.,2.], [1.,2.]]))\n",
    "m"
   ]
  },
  {
   "cell_type": "code",
   "execution_count": 3,
   "id": "916aad63",
   "metadata": {},
   "outputs": [
    {
     "name": "stdout",
     "output_type": "stream",
     "text": [
      "| 1   0 |\n",
      "| 0.5 1 |\n",
      "\n",
      "| 2.0 2.0 |\n",
      "| 0   1.0 |\n",
      "\n",
      "| 2.0 2.0 |\n",
      "| 1.0 2.0 |\n"
     ]
    }
   ],
   "source": [
    "a, b = m.lu()\n",
    "print(a, b ,a*b, sep='\\n\\n')"
   ]
  },
  {
   "cell_type": "markdown",
   "id": "fadd9650",
   "metadata": {},
   "source": [
    "# 2 Реализуйте метод det"
   ]
  },
  {
   "cell_type": "markdown",
   "id": "aaf48bf2",
   "metadata": {},
   "source": [
    "Сделал уровень вложенности det"
   ]
  },
  {
   "cell_type": "code",
   "execution_count": 4,
   "id": "074e2776",
   "metadata": {
    "scrolled": true
   },
   "outputs": [
    {
     "data": {
      "text/plain": [
       "2.0"
      ]
     },
     "execution_count": 4,
     "metadata": {},
     "output_type": "execute_result"
    }
   ],
   "source": [
    "m.det()"
   ]
  },
  {
   "cell_type": "markdown",
   "id": "12d029c3",
   "metadata": {},
   "source": [
    "Пример вложенности матриц в матрицу матриц:"
   ]
  },
  {
   "cell_type": "code",
   "execution_count": 26,
   "id": "999175ef",
   "metadata": {},
   "outputs": [
    {
     "name": "stdout",
     "output_type": "stream",
     "text": [
      "| | | 1/20 | | 1/83 | | | | 1/12 | | 1/39 | | |\n",
      "| |                   | |                   | |\n",
      "| | | 1/84 | | 1/62 | | | | 1/45 | | 1/26 | | |\n",
      "|                                             |\n",
      "| | | 1/15 | | 1/72 | | | | 1/35 | | 1/11 | | |\n",
      "| |                   | |                   | |\n",
      "| | | 1/97 | | 1/83 | | | | 1/30 | | 1/49 | | |\n",
      "\n",
      "| | -1524825419/387645988800 | | 209710876267/69846054261984 | |\n",
      "|                                                              |\n",
      "| | -50347167/67565606080 |    | 47420918005/78261241522464 |  |\n",
      "\n",
      "| -74906519/512569331588160 |\n",
      "\n",
      "-74906519/512569331588160\n"
     ]
    }
   ],
   "source": [
    "d_m = 2\n",
    "b_m = 2\n",
    "d_rand = np.random.randint(1, 100, (d_m, b_m, d_m, b_m))\n",
    "d_array = 1 / d_rand\n",
    "vf = np.vectorize(lambda x: FullMatrix([[Fraction(1, x)]]))\n",
    "d_array_frac = vf(d_rand)\n",
    "d = FullMatrix(np.array([\n",
    "    [FullMatrix(d_array_frac[i, :, j, :]) for j in range(d_m)] for i in range(d_m)\n",
    "]))\n",
    "\n",
    "print(d)\n",
    "print()\n",
    "print(d.det(1))\n",
    "print()\n",
    "print(d.det(2))\n",
    "print()\n",
    "print(d.det(3))"
   ]
  },
  {
   "cell_type": "code",
   "execution_count": 27,
   "id": "3ad4cbd5",
   "metadata": {},
   "outputs": [
    {
     "name": "stdout",
     "output_type": "stream",
     "text": [
      "| | 1/99 1/21 | | 1/49 1/71 | |\n",
      "| | 1/97 1/11 | | 1/12 1/74 | |\n",
      "|                             |\n",
      "| | 1/49 1/41 | | 1/9  1/24 | |\n",
      "| | 1/5  1/81 | | 1/24 1/11 | |\n",
      "\n",
      "| 17811288091/356356982520     -433934900891/44578561575240       |\n",
      "| 1081244729099/11522209101480 -296313429221969/15855108400260360 |\n",
      "\n",
      "-8613386639719/417250257773940360\n",
      "-8613386639719/417250257773940360\n"
     ]
    }
   ],
   "source": [
    "d_m = 2\n",
    "b_m = 2\n",
    "d_rand = np.random.randint(1, 100, (d_m, b_m, d_m, b_m))\n",
    "d_array = 1 / d_rand\n",
    "vf = np.vectorize(lambda x: Fraction(1, x))\n",
    "d_array_frac = vf(d_rand)\n",
    "d = FullMatrix(np.array([\n",
    "    [FullMatrix(d_array_frac[i, :, j, :]) for j in range(d_m)] for i in range(d_m)\n",
    "]))\n",
    "\n",
    "print(d)\n",
    "print()\n",
    "print(d.det(1))\n",
    "print()\n",
    "print(d.det(2))\n",
    "print(d.det(3))"
   ]
  },
  {
   "cell_type": "markdown",
   "id": "06eccde9",
   "metadata": {},
   "source": [
    "# Убедитесь, что ваша реализация LU разложения работает с блочными матрицами."
   ]
  },
  {
   "cell_type": "code",
   "execution_count": 6,
   "id": "a280556b",
   "metadata": {
    "scrolled": false
   },
   "outputs": [
    {
     "data": {
      "text/plain": [
       "| | 2.0 2.0 | | 2.0 2.0 | |\n",
       "| | 1.0 2.0 | | 1.0 2.0 | |\n",
       "|                         |\n",
       "| | 2.0 2.0 | | 2.0 2.0 | |\n",
       "| | 1.0 2.0 | | 1.0 2.0 | |"
      ]
     },
     "execution_count": 6,
     "metadata": {},
     "output_type": "execute_result"
    }
   ],
   "source": [
    "b = FullMatrix.zero(2,2,m)\n",
    "b"
   ]
  },
  {
   "cell_type": "code",
   "execution_count": 7,
   "id": "a0c3a8a7",
   "metadata": {},
   "outputs": [
    {
     "name": "stdout",
     "output_type": "stream",
     "text": [
      "| 2.0 2.0 |\n",
      "| 1.0 2.0 |\n",
      "\n",
      "| 2.0 2.0 |\n",
      "| 1.0 2.0 |\n"
     ]
    }
   ],
   "source": [
    "print(m)\n",
    "print()\n",
    "print(m.inverse().inverse())"
   ]
  },
  {
   "cell_type": "code",
   "execution_count": 8,
   "id": "eff1fa80",
   "metadata": {
    "scrolled": true
   },
   "outputs": [
    {
     "name": "stdout",
     "output_type": "stream",
     "text": [
      "| | 1/9  1/15 | | 1/10 1/14 | |\n",
      "| | 1/40 1/17 | | 1/68 1/8  | |\n",
      "|                             |\n",
      "| | 1/17 1/84 | | 1/68 1/71 | |\n",
      "| | 1/75 1/61 | | 1/74 1/75 | |\n",
      "\n",
      "| | 1 0 |                    | 0 0 | |\n",
      "| | 0 1 |                    | 0 0 | |\n",
      "|                                    |\n",
      "| | 46065/70924 -1670/3129 | | 1 0 | |\n",
      "| | 699/9089    8704/45445 | | 0 1 | |\n",
      "\n",
      "| | 1/9  1/15 | | 1/10 1/14 |                       |\n",
      "| | 1/40 1/17 | | 1/68 1/8  |                       |\n",
      "|                                                   |\n",
      "| | 0 0 |       | -18041/425544 7276793/211495368 | |\n",
      "| | 0 0 |       | 1011/336293   -2519/156450      | |\n",
      "\n",
      "True\n"
     ]
    }
   ],
   "source": [
    "l, u = d.lu()\n",
    "print(d, l, u, d == l * u, sep ='\\n\\n')"
   ]
  },
  {
   "cell_type": "markdown",
   "id": "6c0d38f3",
   "metadata": {},
   "source": [
    "# Реализуйте LUP разложение с перестановкой строк\n",
    "Предъявите матрицу, на которой LUP разложение работает, а LU - нет."
   ]
  },
  {
   "cell_type": "code",
   "execution_count": 9,
   "id": "0abd622e",
   "metadata": {},
   "outputs": [
    {
     "name": "stderr",
     "output_type": "stream",
     "text": [
      "C:\\Users\\vigos\\JupyterProjects\\MatrixLabs\\MatrixLabs2022\\MatrixLib\\Matrixs.py:10: RuntimeWarning: divide by zero encountered in long_scalars\n",
      "  return 1 / element\n"
     ]
    },
    {
     "data": {
      "text/plain": [
       "(| 1   0 |\n",
       " | inf 1 |,\n",
       " | 0 1    |\n",
       " | 0 -inf |)"
      ]
     },
     "execution_count": 9,
     "metadata": {},
     "output_type": "execute_result"
    }
   ],
   "source": [
    "test_a = FullMatrix([[0,1], [2,3]])\n",
    "test_a.lu()"
   ]
  },
  {
   "cell_type": "code",
   "execution_count": 10,
   "id": "8f904b0a",
   "metadata": {},
   "outputs": [
    {
     "data": {
      "text/plain": [
       "(| 1   0 |\n",
       " | 0.0 1 |,\n",
       " | 2 3   |\n",
       " | 0 1.0 |,\n",
       " | 0 1 |\n",
       " | 1 0 |)"
      ]
     },
     "execution_count": 10,
     "metadata": {},
     "output_type": "execute_result"
    }
   ],
   "source": [
    "test_a.lup()"
   ]
  },
  {
   "cell_type": "markdown",
   "id": "325576f9",
   "metadata": {},
   "source": [
    "# Реализуйте метод прогонки и реализуйте метод Matrix.solve для решения линейных систем уравнений."
   ]
  },
  {
   "cell_type": "markdown",
   "id": "c5c115e1",
   "metadata": {},
   "source": [
    "Решим d*x = B"
   ]
  },
  {
   "cell_type": "code",
   "execution_count": 11,
   "id": "b36325e5",
   "metadata": {
    "scrolled": true
   },
   "outputs": [
    {
     "name": "stdout",
     "output_type": "stream",
     "text": [
      "| | 1/9  1/15 | | 1/10 1/14 | |\n",
      "| | 1/40 1/17 | | 1/68 1/8  | |\n",
      "|                             |\n",
      "| | 1/17 1/84 | | 1/68 1/71 | |\n",
      "| | 1/75 1/61 | | 1/74 1/75 | |\n"
     ]
    }
   ],
   "source": [
    "print(d)"
   ]
  },
  {
   "cell_type": "code",
   "execution_count": 12,
   "id": "eaeed9a6",
   "metadata": {},
   "outputs": [
    {
     "data": {
      "text/plain": [
       "| 1 |\n",
       "| 0 |"
      ]
     },
     "execution_count": 12,
     "metadata": {},
     "output_type": "execute_result"
    }
   ],
   "source": [
    "B = FullMatrix([[1], [0]])\n",
    "B"
   ]
  },
  {
   "cell_type": "code",
   "execution_count": 13,
   "id": "1d698967",
   "metadata": {},
   "outputs": [
    {
     "data": {
      "text/plain": [
       "| | -126848071350/41469422587 -27506346120/41469422587  | |\n",
       "| | -973833416640/41469422587 -238799613360/41469422587 | |\n",
       "|                                                         |\n",
       "| | 938242604880/41469422587 -143459451760/41469422587 |  |\n",
       "| | 373262680350/41469422587 466510521120/41469422587  |  |"
      ]
     },
     "execution_count": 13,
     "metadata": {},
     "output_type": "execute_result"
    }
   ],
   "source": [
    "x = d.solve(B)\n",
    "x"
   ]
  },
  {
   "cell_type": "code",
   "execution_count": 14,
   "id": "74b81fa6",
   "metadata": {
    "scrolled": true
   },
   "outputs": [
    {
     "data": {
      "text/plain": [
       "| | 1 0 | |\n",
       "| | 0 1 | |\n",
       "|         |\n",
       "| | 0 0 | |\n",
       "| | 0 0 | |"
      ]
     },
     "execution_count": 14,
     "metadata": {},
     "output_type": "execute_result"
    }
   ],
   "source": [
    "d * x"
   ]
  },
  {
   "cell_type": "markdown",
   "id": "83759ada",
   "metadata": {},
   "source": [
    "Совпало с b"
   ]
  },
  {
   "cell_type": "markdown",
   "id": "84ba5bcd",
   "metadata": {},
   "source": [
    "# Реализуйте класс SymmetricMatrix, хранящий симметричные матрицы. Убедитесь, что метод Matrix.lu корректно работает с этим классом. Модифицируйте этот метод для класса SymmetricMatrix так, чтобы он использовал симметричность матрицы и работал в два раза быстрее."
   ]
  },
  {
   "cell_type": "markdown",
   "id": "00461eb2",
   "metadata": {},
   "source": [
    "Получилось. Чтобы создать матрицу, подается весь нумпай массив. По аргументу side='u' или 'd' используется либо верхняя часть массива для заполнения, либо нижняя. При этом блочные матрицы транспонируются, а матрицы, стоящие на диагонали сами становятся экземплярами SymmetricMatrix с тем же параметром side"
   ]
  },
  {
   "cell_type": "code",
   "execution_count": 21,
   "id": "b1bf26e6",
   "metadata": {},
   "outputs": [],
   "source": [
    "d_m =2\n",
    "b_m =2\n",
    "d_rand = np.random.randint(1, 100, (d_m, b_m, d_m, b_m))\n",
    "d_array = 1 / d_rand\n",
    "vf = np.vectorize(lambda x: Fraction(x,1))\n",
    "d_array_frac = vf(d_rand)\n",
    "d = SymmetricMatrix(np.array([\n",
    "    [FullMatrix(d_array_frac[i, :, j, :]) for j in range(d_m)] for i in range(d_m)\n",
    "]))\n",
    "\n",
    "L, D = SymmetricMatrix(d.data).ldl()"
   ]
  },
  {
   "cell_type": "code",
   "execution_count": 22,
   "id": "969bea57",
   "metadata": {
    "scrolled": false
   },
   "outputs": [
    {
     "name": "stdout",
     "output_type": "stream",
     "text": [
      "| | 45 67 | | 45 57 | |\n",
      "| | 67 4  | | 19 18 | |\n",
      "|                     |\n",
      "| | 45 19 | | 9  96 | |\n",
      "| | 57 18 | | 96 5  | |\n",
      "\n",
      "| | 1 0 |                 | 0 0 | |\n",
      "| | 0 1 |                 | 0 0 | |\n",
      "|                                 |\n",
      "| | 1093/4309 2160/4309 | | 1 0 | |\n",
      "| | 978/4309  3009/4309 | | 0 1 | |\n",
      "\n",
      "| | 45 67 | | 0 0 |                     |\n",
      "| | 67 4  | | 0 0 |                     |\n",
      "|                                       |\n",
      "| | 0 0 |   | -51444/4309 312483/4309 | |\n",
      "| | 0 0 |   | 312483/4309 -88363/4309 | |\n",
      "\n",
      "True\n"
     ]
    }
   ],
   "source": [
    "print(d, L, D, L * D * L.T == d, sep='\\n\\n')"
   ]
  },
  {
   "cell_type": "markdown",
   "id": "61cd94ed",
   "metadata": {},
   "source": [
    "# Реализуйте класс BandMatrix для хранения ленточных матриц. Убедитесь в работоспособности методов lu и solve."
   ]
  },
  {
   "cell_type": "markdown",
   "id": "4b4455c9",
   "metadata": {},
   "source": [
    "Не получилось чуть-чуть: где-то случается перестановка, которую я не могу отловить:"
   ]
  },
  {
   "cell_type": "code",
   "execution_count": 40,
   "id": "4181a415",
   "metadata": {},
   "outputs": [
    {
     "name": "stdout",
     "output_type": "stream",
     "text": [
      "| 1 1 0 0 |\n",
      "| 6 6 1 0 |\n",
      "| 0 2 1 3 |\n",
      "| 0 0 2 1 |\n",
      "Не выходит E:\n",
      "| 0 0 1 0 |\n",
      "| 0 0 0 1 |\n",
      "| 1 0 0 0 |\n",
      "| 0 1 0 0 |\n"
     ]
    }
   ],
   "source": [
    "p = {\n",
    "    0: [Fraction(1), Fraction(6), Fraction(1), Fraction(1)],\n",
    "    1: [1, Fraction(1), 3],\n",
    "    -1: [Fraction(6), 2, 2],\n",
    "}\n",
    "BM = BandMatrix(p)\n",
    "print(BM)\n",
    "print('Не выходит E:')\n",
    "print(BM * BM.inverse())"
   ]
  },
  {
   "cell_type": "code",
   "execution_count": 52,
   "id": "fc5370b7",
   "metadata": {},
   "outputs": [],
   "source": [
    "def block_FullMatrix(m: int, n: int, start_from: int = 1):\n",
    "    a = np.arange(start_from, start_from + m*n).astype(float).reshape((m, n))\n",
    "    return FullMatrix(a)\n",
    "\n",
    "p = {\n",
    "    0: [block_FullMatrix(2, 2, np.random.randint(0,10)) for i in range(4)],\n",
    "    1: [block_FullMatrix(2, 2, np.random.randint(0,10)) for i in range(3)],\n",
    "    -2: [block_FullMatrix(2, 2, np.random.randint(0,10)) for i in range(2)],\n",
    "}"
   ]
  },
  {
   "cell_type": "code",
   "execution_count": 53,
   "id": "d50dc6c9",
   "metadata": {},
   "outputs": [
    {
     "data": {
      "text/plain": [
       "| | 5.0 6.0 |   | 6.0 7.0 | 0           0             |\n",
       "| | 7.0 8.0 |   | 8.0 9.0 |                           |\n",
       "|                                                     |\n",
       "| 0             | 4.0 5.0 | | 5.0 6.0 | 0             |\n",
       "|               | 6.0 7.0 | | 7.0 8.0 |               |\n",
       "| | 8.0  9.0  | 0           | 3.0 4.0 | | 9.0  10.0 | |\n",
       "| | 10.0 11.0 |             | 5.0 6.0 | | 11.0 12.0 | |\n",
       "|                                                     |\n",
       "| 0             | 5.0 6.0 | 0           | 7.0 8.0  |  |\n",
       "|               | 7.0 8.0 |             | 9.0 10.0 |  |"
      ]
     },
     "execution_count": 53,
     "metadata": {},
     "output_type": "execute_result"
    }
   ],
   "source": [
    "BandMatrix(p)"
   ]
  },
  {
   "cell_type": "code",
   "execution_count": null,
   "id": "6dac9f5e",
   "metadata": {},
   "outputs": [],
   "source": []
  }
 ],
 "metadata": {
  "kernelspec": {
   "display_name": "Python 3 (ipykernel)",
   "language": "python",
   "name": "python3"
  },
  "language_info": {
   "codemirror_mode": {
    "name": "ipython",
    "version": 3
   },
   "file_extension": ".py",
   "mimetype": "text/x-python",
   "name": "python",
   "nbconvert_exporter": "python",
   "pygments_lexer": "ipython3",
   "version": "3.9.6"
  }
 },
 "nbformat": 4,
 "nbformat_minor": 5
}
