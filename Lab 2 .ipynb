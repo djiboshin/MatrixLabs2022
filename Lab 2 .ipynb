{
 "cells": [
  {
   "cell_type": "code",
   "execution_count": 3,
   "id": "2b7e0a5b",
   "metadata": {},
   "outputs": [],
   "source": [
    "import MatrixLib\n",
    "from MatrixLib import FullMatrix, Matrix\n",
    "from importlib import reload\n",
    "import numpy as np\n",
    "# reload(MatrixLib)\n"
   ]
  },
  {
   "cell_type": "code",
   "execution_count": 2,
   "id": "1cbf31c8",
   "metadata": {
    "scrolled": true
   },
   "outputs": [
    {
     "name": "stdout",
     "output_type": "stream",
     "text": [
      "| 0 0 0 0 0 |\n",
      "| 0 0 0 0 0 |\n",
      "| 0 0 0 0 0 |\n",
      "(3, 5)\n",
      "int32\n"
     ]
    }
   ],
   "source": [
    "m = FullMatrix.zero(3,5,0)\n",
    "print(m)\n",
    "print(m.shape)\n",
    "print(m.dtype)"
   ]
  },
  {
   "cell_type": "code",
   "execution_count": 5,
   "id": "17ad57aa",
   "metadata": {},
   "outputs": [
    {
     "data": {
      "text/plain": [
       "| 2 2 |\n",
       "| 1 2 |"
      ]
     },
     "execution_count": 5,
     "metadata": {},
     "output_type": "execute_result"
    }
   ],
   "source": [
    "m = FullMatrix(np.array([[2,2], [1,2]]))\n",
    "m"
   ]
  },
  {
   "cell_type": "code",
   "execution_count": 3,
   "id": "4673df8d",
   "metadata": {
    "scrolled": true
   },
   "outputs": [
    {
     "data": {
      "text/plain": [
       "(array([[1. , 0. ],\n",
       "        [0.5, 1. ]]),\n",
       " array([[2., 2.],\n",
       "        [0., 1.]]))"
      ]
     },
     "execution_count": 3,
     "metadata": {},
     "output_type": "execute_result"
    }
   ],
   "source": [
    "a, b = m.lu()\n",
    "a, b"
   ]
  },
  {
   "cell_type": "code",
   "execution_count": 4,
   "id": "a67223b9",
   "metadata": {},
   "outputs": [
    {
     "data": {
      "text/plain": [
       "array([[2., 2.],\n",
       "       [1., 2.]])"
      ]
     },
     "execution_count": 4,
     "metadata": {},
     "output_type": "execute_result"
    }
   ],
   "source": [
    "np.dot(a,b)"
   ]
  },
  {
   "cell_type": "code",
   "execution_count": 5,
   "id": "074e2776",
   "metadata": {},
   "outputs": [
    {
     "data": {
      "text/plain": [
       "2.0"
      ]
     },
     "execution_count": 5,
     "metadata": {},
     "output_type": "execute_result"
    }
   ],
   "source": [
    "m.det()"
   ]
  },
  {
   "cell_type": "code",
   "execution_count": null,
   "id": "20adfb8f",
   "metadata": {},
   "outputs": [],
   "source": []
  },
  {
   "cell_type": "code",
   "execution_count": 18,
   "id": "049e7b95",
   "metadata": {},
   "outputs": [
    {
     "data": {
      "text/plain": [
       "array([[10., 10.],\n",
       "       [ 8.,  7.]])"
      ]
     },
     "execution_count": 18,
     "metadata": {},
     "output_type": "execute_result"
    }
   ],
   "source": [
    "m1 = FullMatrix(np.array([[2,2], [1,2]]))\n",
    "m2 = FullMatrix(np.array([[2,3], [3,2]]))\n",
    "m1*m2"
   ]
  },
  {
   "cell_type": "code",
   "execution_count": 18,
   "id": "9bf13ddc",
   "metadata": {},
   "outputs": [
    {
     "data": {
      "text/plain": [
       "| 0 0 |\n",
       "| 0 1 |"
      ]
     },
     "execution_count": 18,
     "metadata": {},
     "output_type": "execute_result"
    }
   ],
   "source": [
    "from fractions import Fraction\n",
    "d = FullMatrix.zero(2,2,Fraction(0,1))\n",
    "for i in range(min(d.height,d.width)):\n",
    "        d[i,i] = Fraction(i,1)  \n",
    "        \n",
    "d"
   ]
  },
  {
   "cell_type": "code",
   "execution_count": 19,
   "id": "9c2d2612",
   "metadata": {},
   "outputs": [
    {
     "name": "stdout",
     "output_type": "stream",
     "text": [
      "(0 - 0)/ 0.0 = nan\n"
     ]
    },
    {
     "data": {
      "text/plain": [
       "(array([[ 1.,  0.],\n",
       "        [nan,  1.]]),\n",
       " array([[ 0.,  0.],\n",
       "        [ 0., nan]]))"
      ]
     },
     "execution_count": 19,
     "metadata": {},
     "output_type": "execute_result"
    }
   ],
   "source": [
    "d.lu()"
   ]
  },
  {
   "cell_type": "code",
   "execution_count": 25,
   "id": "6d5cd74e",
   "metadata": {},
   "outputs": [
    {
     "name": "stdout",
     "output_type": "stream",
     "text": [
      "| 1 1/2 1/3 1/4 |\n",
      "| 2 1   2/3 1/2 |\n",
      "| 3 3/2 1   3/4 |\n",
      "| 4 2   4/3 1   |\n",
      "| 0 0 0 0 |\n",
      "| 0 1 0 0 |\n",
      "| 0 0 2 0 |\n",
      "| 0 0 0 3 |\n",
      "m+m:\n",
      "m*d:\n",
      "[[0.         0.5        0.66666667 0.75      ]\n",
      " [0.         1.         1.33333333 1.5       ]\n",
      " [0.         1.5        2.         2.25      ]\n",
      " [0.         2.         2.66666667 3.        ]]\n"
     ]
    }
   ],
   "source": [
    "from fractions import Fraction\n",
    "m = FullMatrix.zero(4,4,Fraction(0,1))\n",
    "for i in range(m.height):\n",
    "    for j in range(m.width):\n",
    "        m[i,j] = Fraction(i+1,j+1)\n",
    "d = FullMatrix.zero(4,4,Fraction(0,1))\n",
    "for i in range(min(d.height,d.width)):\n",
    "        d[i,i] = Fraction(i,1)        \n",
    "print(m)\n",
    "print(d)\n",
    "print(\"m+m:\")\n",
    "# print(m+d)\n",
    "print(\"m*d:\")\n",
    "print(m*d)"
   ]
  },
  {
   "cell_type": "code",
   "execution_count": 15,
   "id": "d9e460bd",
   "metadata": {},
   "outputs": [
    {
     "name": "stdout",
     "output_type": "stream",
     "text": [
      "(2 - 0)/ 1.0 = 2.0\n",
      "(3 - 0)/ 1.0 = 3.0\n",
      "(3/2 - 1.5)/ 0.0 = nan\n",
      "(4 - 0)/ 1.0 = 4.0\n",
      "(2 - 2.0)/ 0.0 = nan\n",
      "(4/3 - nan)/ nan = nan\n"
     ]
    },
    {
     "data": {
      "text/plain": [
       "(array([[ 1.,  0.,  0.,  0.],\n",
       "        [ 2.,  1.,  0.,  0.],\n",
       "        [ 3., nan,  1.,  0.],\n",
       "        [ 4., nan, nan,  1.]]),\n",
       " array([[1.        , 0.5       , 0.33333333, 0.25      ],\n",
       "        [0.        , 0.        , 0.        , 0.        ],\n",
       "        [0.        , 0.        ,        nan,        nan],\n",
       "        [0.        , 0.        , 0.        ,        nan]]))"
      ]
     },
     "execution_count": 15,
     "metadata": {},
     "output_type": "execute_result"
    }
   ],
   "source": [
    "m.lu()"
   ]
  },
  {
   "cell_type": "code",
   "execution_count": 6,
   "id": "a280556b",
   "metadata": {},
   "outputs": [
    {
     "name": "stdout",
     "output_type": "stream",
     "text": [
      "| | 2 2 | | 2 2 | | 2 2 | |\n",
      "| | 1 2 | | 1 2 | | 1 2 | |\n",
      "|                         |\n",
      "| | 2 2 | | 2 2 | | 2 2 | |\n",
      "| | 1 2 | | 1 2 | | 1 2 | |\n",
      "|                         |\n",
      "| | 2 2 | | 2 2 | | 2 2 | |\n",
      "| | 1 2 | | 1 2 | | 1 2 | |\n"
     ]
    }
   ],
   "source": [
    "b = FullMatrix.zero(3,3,m)\n",
    "print(b)"
   ]
  },
  {
   "cell_type": "code",
   "execution_count": 7,
   "id": "d7b9e651",
   "metadata": {},
   "outputs": [
    {
     "ename": "TypeError",
     "evalue": "unsupported operand type(s) for -: 'FullMatrix' and 'NoneType'",
     "output_type": "error",
     "traceback": [
      "\u001b[1;31m---------------------------------------------------------------------------\u001b[0m",
      "\u001b[1;31mTypeError\u001b[0m                                 Traceback (most recent call last)",
      "\u001b[1;32m~\\AppData\\Local\\Temp/ipykernel_9476/1052069346.py\u001b[0m in \u001b[0;36m<module>\u001b[1;34m\u001b[0m\n\u001b[1;32m----> 1\u001b[1;33m \u001b[0mb\u001b[0m\u001b[1;33m.\u001b[0m\u001b[0mlu\u001b[0m\u001b[1;33m(\u001b[0m\u001b[1;33m)\u001b[0m\u001b[1;33m\u001b[0m\u001b[1;33m\u001b[0m\u001b[0m\n\u001b[0m",
      "\u001b[1;32m~\\JupyterProjects\\MatrixLabs\\MatrixLabs2022\\MatrixLib\\Matrixs.py\u001b[0m in \u001b[0;36mlu\u001b[1;34m(self)\u001b[0m\n\u001b[0;32m    136\u001b[0m                         \u001b[0madd\u001b[0m \u001b[1;33m=\u001b[0m \u001b[0mL\u001b[0m\u001b[1;33m[\u001b[0m\u001b[0mr\u001b[0m\u001b[1;33m,\u001b[0m \u001b[0mk\u001b[0m\u001b[1;33m]\u001b[0m \u001b[1;33m*\u001b[0m \u001b[0mU\u001b[0m\u001b[1;33m[\u001b[0m\u001b[0mk\u001b[0m\u001b[1;33m,\u001b[0m \u001b[0mc\u001b[0m\u001b[1;33m]\u001b[0m\u001b[1;33m\u001b[0m\u001b[1;33m\u001b[0m\u001b[0m\n\u001b[0;32m    137\u001b[0m                         \u001b[0macc\u001b[0m \u001b[1;33m=\u001b[0m \u001b[0madd\u001b[0m \u001b[1;32mif\u001b[0m \u001b[0macc\u001b[0m \u001b[1;32mis\u001b[0m \u001b[1;32mNone\u001b[0m \u001b[1;32melse\u001b[0m \u001b[0macc\u001b[0m \u001b[1;33m+\u001b[0m \u001b[0madd\u001b[0m\u001b[1;33m\u001b[0m\u001b[1;33m\u001b[0m\u001b[0m\n\u001b[1;32m--> 138\u001b[1;33m                     \u001b[0mU\u001b[0m\u001b[1;33m[\u001b[0m\u001b[0mr\u001b[0m\u001b[1;33m,\u001b[0m \u001b[0mc\u001b[0m\u001b[1;33m]\u001b[0m \u001b[1;33m=\u001b[0m \u001b[0mself\u001b[0m\u001b[1;33m[\u001b[0m\u001b[0mr\u001b[0m\u001b[1;33m,\u001b[0m \u001b[0mc\u001b[0m\u001b[1;33m]\u001b[0m \u001b[1;33m-\u001b[0m \u001b[0macc\u001b[0m\u001b[1;33m\u001b[0m\u001b[1;33m\u001b[0m\u001b[0m\n\u001b[0m\u001b[0;32m    139\u001b[0m                 \u001b[1;32melse\u001b[0m\u001b[1;33m:\u001b[0m\u001b[1;33m\u001b[0m\u001b[1;33m\u001b[0m\u001b[0m\n\u001b[0;32m    140\u001b[0m                     \u001b[0macc\u001b[0m \u001b[1;33m=\u001b[0m \u001b[1;32mNone\u001b[0m\u001b[1;33m\u001b[0m\u001b[1;33m\u001b[0m\u001b[0m\n",
      "\u001b[1;31mTypeError\u001b[0m: unsupported operand type(s) for -: 'FullMatrix' and 'NoneType'"
     ]
    }
   ],
   "source": [
    "b.lu()"
   ]
  }
 ],
 "metadata": {
  "kernelspec": {
   "display_name": "Python 3 (ipykernel)",
   "language": "python",
   "name": "python3"
  },
  "language_info": {
   "codemirror_mode": {
    "name": "ipython",
    "version": 3
   },
   "file_extension": ".py",
   "mimetype": "text/x-python",
   "name": "python",
   "nbconvert_exporter": "python",
   "pygments_lexer": "ipython3",
   "version": "3.9.6"
  }
 },
 "nbformat": 4,
 "nbformat_minor": 5
}
