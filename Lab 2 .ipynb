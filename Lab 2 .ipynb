{
 "cells": [
  {
   "cell_type": "code",
   "execution_count": 229,
   "id": "2b7e0a5b",
   "metadata": {},
   "outputs": [],
   "source": [
    "# import MatrixLib\n",
    "# from MatrixLib import FullMatrix, Matrix\n",
    "from importlib import reload\n",
    "import numpy as np\n",
    "import numbers\n",
    "# reload(MatrixLib)\n"
   ]
  },
  {
   "cell_type": "code",
   "execution_count": 1175,
   "id": "09ccb6bb",
   "metadata": {},
   "outputs": [
    {
     "ename": "IndentationError",
     "evalue": "expected an indented block (Temp/ipykernel_23708/665253532.py, line 206)",
     "output_type": "error",
     "traceback": [
      "\u001b[1;36m  File \u001b[1;32m\"C:\\Users\\vigos\\AppData\\Local\\Temp/ipykernel_23708/665253532.py\"\u001b[1;36m, line \u001b[1;32m206\u001b[0m\n\u001b[1;33m    ''' Solves LY=E'''\u001b[0m\n\u001b[1;37m    ^\u001b[0m\n\u001b[1;31mIndentationError\u001b[0m\u001b[1;31m:\u001b[0m expected an indented block\n"
     ]
    }
   ],
   "source": [
    "from abc import ABC\n",
    "import numbers\n",
    "import numpy as np\n",
    "from fractions import Fraction\n",
    "\n",
    "\n",
    "class TextBlock:\n",
    "    def __init__(self, rows):\n",
    "        assert isinstance(rows, list)\n",
    "        self.rows = rows\n",
    "        self.height = len(self.rows)\n",
    "        self.width = max(map(len, self.rows))\n",
    "\n",
    "    @classmethod\n",
    "    def from_str(_cls, data):\n",
    "        assert isinstance(data, str)\n",
    "        return TextBlock(data.split('\\n'))\n",
    "\n",
    "    def format(self, width=None, height=None):\n",
    "        if width is None: width = self.width\n",
    "        if height is None: height = self.height\n",
    "        return [f\"{row:{width}}\" for row in self.rows] + [' ' * width] * (height - self.height)\n",
    "\n",
    "    @staticmethod\n",
    "    def merge(blocks):\n",
    "        return [\" \".join(row) for row in zip(*blocks)]\n",
    "\n",
    "\n",
    "class Matrix:\n",
    "    \"\"\"Общий предок для всех матриц.\"\"\"\n",
    "\n",
    "    @property\n",
    "    def shape(self):\n",
    "        raise NotImplementedError\n",
    "\n",
    "    @property\n",
    "    def dtype(self):\n",
    "        raise NotImplementedError\n",
    "\n",
    "    @property\n",
    "    def width(self):\n",
    "        return self.shape[1]\n",
    "\n",
    "    @property\n",
    "    def height(self):\n",
    "        return self.shape[0]\n",
    "\n",
    "    def __repr__(self):\n",
    "        \"\"\"Возвращает текстовое представление для матрицы.\"\"\"\n",
    "        text = [[TextBlock.from_str(f\"{self[r, c]}\") for c in range(self.width)] for r in range(self.height)]\n",
    "        width_el = np.array(list(map(lambda row: list(map(lambda el: el.width, row)), text)))\n",
    "        height_el = np.array(list(map(lambda row: list(map(lambda el: el.height, row)), text)))\n",
    "        width_column = np.max(width_el, axis=0)\n",
    "        width_total = np.sum(width_column)\n",
    "        height_row = np.max(height_el, axis=1)\n",
    "        result = []\n",
    "        for r in range(self.height):\n",
    "            lines = TextBlock.merge(\n",
    "                text[r][c].format(width=width_column[c], height=height_row[r]) for c in range(self.width))\n",
    "            for l in lines:\n",
    "                result.append(f\"| {l} |\")\n",
    "            if len(lines) > 0 and len(lines[0]) > 0 and lines[0][0] == '|' and r < self.height - 1:\n",
    "                result.append(f'| {\" \" * (width_total + self.width)}|')\n",
    "        return \"\\n\".join(result)\n",
    "\n",
    "    def empty_like(self, width=None, height=None):\n",
    "        raise NotImplementedError\n",
    "        \n",
    "    def eye_element(self, element):\n",
    "        if isinstance(element, Matrix):\n",
    "            return element.eye_like()\n",
    "        elif isinstance(element, np.number) or isinstance(element, numbers.Number):\n",
    "            return 1\n",
    "        elif isinstance(element, Fraction):\n",
    "            return Fraction(1,1)\n",
    "        raise NotImplemented\n",
    "        \n",
    "    def eye_like(self, width=None, height=None):\n",
    "        matix = self.empty_like()\n",
    "        for i in range(min([matix.height, matix.width])):\n",
    "            matix[i,i] = self.eye_element(matix[i,i])\n",
    "        return matix\n",
    "\n",
    "    def __getitem__(self, key):\n",
    "        raise NotImplementedError\n",
    "\n",
    "    def __setitem__(self, key, value):\n",
    "        raise NotImplementedError\n",
    "\n",
    "    def __add__(self, other):\n",
    "        if isinstance(other, Matrix):\n",
    "            assert self.width == other.width and self.height == other.height, f\"Shapes does not match: {self.shape} != {other.shape}\"\n",
    "            matrix = self.empty_like()\n",
    "            for r in range(self.height):\n",
    "                for c in range(self.width):\n",
    "                    matrix[r, c] = self[r, c] + other[r, c]\n",
    "            return matrix\n",
    "        elif isinstance(other, np.number) or isinstance(other, numbers.Number) or isinstance(other, int):\n",
    "            matrix = self.empty_like()\n",
    "            for r in range(self.height):\n",
    "                for c in range(self.width):\n",
    "                    matrix[r, c] = self[r, c] + other\n",
    "            return matrix\n",
    "        return NotImplemented\n",
    "\n",
    "    def __sub__(self, other):\n",
    "        if isinstance(other, Matrix):\n",
    "            assert self.width == other.width and self.height == other.height, f\"Shapes does not match: {self.shape} != {other.shape}\"\n",
    "            matrix = self.empty_like()\n",
    "            for r in range(self.height):\n",
    "                for c in range(self.width):\n",
    "                    matrix[r, c] = self[r, c] - other[r, c]\n",
    "            return matrix\n",
    "        elif isinstance(other, np.number) or isinstance(other, numbers.Number):\n",
    "            matrix = self.empty_like()\n",
    "            for r in range(self.height):\n",
    "                for c in range(self.width):\n",
    "                    matrix[r, c] = self[r, c] - other\n",
    "            return matrix\n",
    "        return NotImplemented\n",
    "    \n",
    "#     def __rsub__(self, other):\n",
    "#         return self.__sub__(other)\n",
    "        \n",
    "    def __neg__(self):\n",
    "        matrix = self.empty_like()\n",
    "        for r in range(self.height):\n",
    "                for c in range(self.width):\n",
    "                    matrix[r, c] = - self[r, c]\n",
    "        return matrix\n",
    "\n",
    "    def __mul__(self, other):\n",
    "        return self.__matmul__(other)\n",
    "    \n",
    "    def __rmul__(self, other):\n",
    "        return self.__matmul__(other)\n",
    "\n",
    "    def __matmul__(self, other):\n",
    "        if isinstance(other, Matrix):\n",
    "            assert self.width == other.height, f\"Shapes does not match: {self.shape} != {other.shape}\"\n",
    "            matrix = self.empty_like(width=self.height, height=other.width)\n",
    "            for r in range(self.height):\n",
    "                for c in range(other.width):\n",
    "                    acc = None\n",
    "                    for k in range(self.width):\n",
    "                        add = self[r, k] * other[k, c]\n",
    "                        acc = add if acc is None else acc + add\n",
    "                    matrix[r, c] = acc\n",
    "            return matrix\n",
    "        elif isinstance(other, np.number) or isinstance(other, numbers.Number):\n",
    "            matrix = self.empty_like()\n",
    "            for r in range(self.height):\n",
    "                for c in range(self.width):\n",
    "                    matrix[r, c] = self[r, c] * other\n",
    "            return matrix\n",
    "        return NotImplemented\n",
    "    \n",
    "    def __truediv__(self, other):\n",
    "        return self * self.invert_element(other)\n",
    "\n",
    "    def inverse(self):\n",
    "        raise NotImplementedError\n",
    "\n",
    "    def invert_element(self, element):\n",
    "        if isinstance(element, numbers.Number) or isinstance(element, np.number):\n",
    "            return 1 / element\n",
    "        if isinstance(element, Fraction):\n",
    "            return 1 / element\n",
    "        if isinstance(element, Matrix):\n",
    "            return element.inverse()\n",
    "        raise TypeError\n",
    "\n",
    "    def lu(self):\n",
    "        assert self.width == self.height, f\"Shapes does not match: {self.shape}\"\n",
    "        L = np.zeros((self.height, self.height), dtype=self.dtype)\n",
    "        for r in range(self.height):\n",
    "            L[r, r] = 1\n",
    "#         L = self.eye_like()\n",
    "        U = np.zeros((self.height, self.height), dtype=self.dtype)\n",
    "        \n",
    "        for r in range(self.height):\n",
    "            for c in range(self.height):\n",
    "                if r <= c:\n",
    "                    acc = None\n",
    "                    for k in range(r):\n",
    "                        add = L[r, k] * U[k, c]\n",
    "                        acc = add if acc is None else (acc + add)\n",
    "                    U[r, c] = self[r, c] if acc is None else (self[r, c] - acc)\n",
    "                else:\n",
    "                    acc = None\n",
    "                    for k in range(c):\n",
    "                        add = L[r, k] * U[k, c]\n",
    "                        acc = add if acc is None else (acc + add)\n",
    "                    L[r, c] = self[r, c] if acc is None else (self[r, c] - acc)\n",
    "                    L[r, c] = L[r, c] * self.invert_element(U[c, c])\n",
    "        return L, U\n",
    "\n",
    "    def det(self):\n",
    "        L, U = self.lu()\n",
    "        acc = None\n",
    "        for k in range(self.height):\n",
    "            acc = U[k, k] if acc is None else acc * U[k, k]\n",
    "        return acc\n",
    "\n",
    "        def _LY_E_sol(self, L):\n",
    "        ''' Solves LY=E'''\n",
    "        Y = L.empty_like()\n",
    "        for i in range(L.height):\n",
    "            for j in range(L.width):\n",
    "                Y[j,i] = 0 if i!=j else 1\n",
    "                for k in range(j):\n",
    "                    Y[j,i]= Y[j,i]-L[j,k]*Y[k,i]     \n",
    "        return Y\n",
    "    \n",
    "    def _Ly_b_sol(self, L, b):\n",
    "        ''' Solves Ly=b'''\n",
    "        y = np.empty(L.height, dtype=self.dtype)\n",
    "        for i in range(L.height):\n",
    "            y[i] = b[i]\n",
    "            for k in range(i):\n",
    "                y[i]= y[i]-L[i,k]*y[k]     \n",
    "        return y\n",
    "        \n",
    "    def _Ux_y_sol(self, U, y):\n",
    "        x = np.empty(U.height, dtype=self.dtype)\n",
    "        for j in range(U.width-1, -1, -1):\n",
    "            x[j] = y[j]\n",
    "            for k in range(j+1, U.width):\n",
    "                x[j]= x[j]-U[j,k]*x[k]\n",
    "            x[j] = x[j] * self.invert_element(U[j,j])     \n",
    "        return x\n",
    "        \n",
    "    def _UX_Y_sol(self, U, Y):\n",
    "        ''' Solves UX=Y'''\n",
    "        X = Y.empty_like()\n",
    "        for i in range(U.height):\n",
    "            X[:,i] = self._Ux_y_sol(U, Y[:,i])\n",
    "        return X\n",
    "    \n",
    "    def solve(self):\n",
    "        pass\n",
    "    \n",
    "class FullMatrix(Matrix, ABC):\n",
    "    \"\"\"\n",
    "    Заполненная матрица с элементами произвольного типа.\n",
    "    \"\"\"\n",
    "\n",
    "    def __init__(self, data):\n",
    "        \"\"\"\n",
    "        Создает объект, хранящий матрицу в виде np.ndarray `data`.\n",
    "        \"\"\"\n",
    "        assert isinstance(data, np.ndarray)\n",
    "        self.data = data\n",
    "\n",
    "    def empty_like(self, width=None, height=None):\n",
    "        dtype = self.data.dtype\n",
    "        if width is None:\n",
    "            width = self.data.shape[1]\n",
    "        if height is None:\n",
    "            height = self.data.shape[0]\n",
    "        data = np.empty((height, width), dtype=dtype)\n",
    "        return FullMatrix(data)\n",
    "\n",
    "    @classmethod\n",
    "    def zero(_cls, height, width, default=0):\n",
    "        \"\"\"\n",
    "        Создает матрицу размера `width` x `height` со значениями по умолчанию `default`.\n",
    "        \"\"\"\n",
    "        data = np.empty((height, width), dtype=type(default))\n",
    "        data[:] = default\n",
    "        return FullMatrix(data)\n",
    "\n",
    "    @property\n",
    "    def shape(self):\n",
    "        return self.data.shape\n",
    "\n",
    "    @property\n",
    "    def dtype(self):\n",
    "        return self.data.dtype\n",
    "\n",
    "    def __getitem__(self, key):\n",
    "        row, column = key\n",
    "        return self.data[row, column]\n",
    "\n",
    "    def __setitem__(self, key, value):\n",
    "        row, column = key\n",
    "        self.data[row, column] = value\n",
    "        \n",
    "    def lu(self):\n",
    "        L, U = super().lu()\n",
    "        return FullMatrix(L), FullMatrix(U)\n",
    "      \n",
    "    def inverse(self):\n",
    "        '''LUX=E'''\n",
    "        L, U = self.lu()\n",
    "        Y = self._LY_E_sol(L)\n",
    "        X = self._UX_Y_sol(U, Y)\n",
    "        return(X)\n",
    "    \n",
    "        "
   ]
  },
  {
   "cell_type": "markdown",
   "id": "f35e3ffa",
   "metadata": {},
   "source": [
    "# 1 Напишите метод lu для класса Matrix, выполняющий LU разложение."
   ]
  },
  {
   "cell_type": "code",
   "execution_count": 1176,
   "id": "1cbf31c8",
   "metadata": {
    "scrolled": false
   },
   "outputs": [
    {
     "data": {
      "text/plain": [
       "| 2.0 2.0 |\n",
       "| 1.0 2.0 |"
      ]
     },
     "execution_count": 1176,
     "metadata": {},
     "output_type": "execute_result"
    }
   ],
   "source": [
    "m = FullMatrix(np.array([[2.,2.], [1.,2.]]))\n",
    "m"
   ]
  },
  {
   "cell_type": "code",
   "execution_count": 1177,
   "id": "2ea52b7a",
   "metadata": {},
   "outputs": [
    {
     "data": {
      "text/plain": [
       "(| 1.0 0.0 |\n",
       " | 0.5 1.0 |,\n",
       " | 2.0 2.0 |\n",
       " | 0.0 1.0 |)"
      ]
     },
     "execution_count": 1177,
     "metadata": {},
     "output_type": "execute_result"
    }
   ],
   "source": [
    "a, b = m.lu()\n",
    "a, b"
   ]
  },
  {
   "cell_type": "code",
   "execution_count": 1178,
   "id": "4fbdb1d1",
   "metadata": {
    "scrolled": true
   },
   "outputs": [
    {
     "data": {
      "text/plain": [
       "| 2.0 2.0 |\n",
       "| 1.0 2.0 |"
      ]
     },
     "execution_count": 1178,
     "metadata": {},
     "output_type": "execute_result"
    }
   ],
   "source": [
    "a@b"
   ]
  },
  {
   "cell_type": "code",
   "execution_count": 1179,
   "id": "65028cd9",
   "metadata": {},
   "outputs": [
    {
     "data": {
      "text/plain": [
       "| 10.0 0.0  |\n",
       "| 5.0  10.0 |"
      ]
     },
     "execution_count": 1179,
     "metadata": {},
     "output_type": "execute_result"
    }
   ],
   "source": [
    "a * 10"
   ]
  },
  {
   "cell_type": "code",
   "execution_count": 1180,
   "id": "77b08c8c",
   "metadata": {},
   "outputs": [
    {
     "data": {
      "text/plain": [
       "| 0.0 1.0 |\n",
       "| 0.5 0.0 |"
      ]
     },
     "execution_count": 1180,
     "metadata": {},
     "output_type": "execute_result"
    }
   ],
   "source": [
    "-a+1"
   ]
  },
  {
   "cell_type": "code",
   "execution_count": 1181,
   "id": "7e25dc49",
   "metadata": {},
   "outputs": [
    {
     "data": {
      "text/plain": [
       "array([0., 1.])"
      ]
     },
     "execution_count": 1181,
     "metadata": {},
     "output_type": "execute_result"
    }
   ],
   "source": [
    "m._Ly_b_sol(m.lu()[0], np.array([0,1]))"
   ]
  },
  {
   "cell_type": "code",
   "execution_count": 1182,
   "id": "57b707e0",
   "metadata": {},
   "outputs": [
    {
     "data": {
      "text/plain": [
       "array([-1.,  1.])"
      ]
     },
     "execution_count": 1182,
     "metadata": {},
     "output_type": "execute_result"
    }
   ],
   "source": [
    "m._Ux_y_sol(m.lu()[1], np.array([0,1]))"
   ]
  },
  {
   "cell_type": "markdown",
   "id": "611312e2",
   "metadata": {},
   "source": [
    "# 2 Реализуйте метод det"
   ]
  },
  {
   "cell_type": "code",
   "execution_count": 1183,
   "id": "074e2776",
   "metadata": {},
   "outputs": [
    {
     "data": {
      "text/plain": [
       "2.0"
      ]
     },
     "execution_count": 1183,
     "metadata": {},
     "output_type": "execute_result"
    }
   ],
   "source": [
    "m.det()"
   ]
  },
  {
   "cell_type": "code",
   "execution_count": 1184,
   "id": "6d5cd74e",
   "metadata": {},
   "outputs": [
    {
     "name": "stdout",
     "output_type": "stream",
     "text": [
      "| 1/2 1/6 |\n",
      "| 1/2 1/3 |\n",
      "| 0 0 |\n",
      "| 0 1 |\n",
      "m+d:\n",
      "| 1/2 1/6 |\n",
      "| 1/2 4/3 |\n",
      "m*d:\n",
      "| 0 1/6 |\n",
      "| 0 1/3 |\n",
      "LU(mn):\n",
      "| 1 0 |\n",
      "| 1 1 |\n",
      "| 1/2 1/6 |\n",
      "| 0   1/6 |\n",
      "L*U:\n",
      "| 1/2 1/6 |\n",
      "| 1/2 1/3 |\n"
     ]
    }
   ],
   "source": [
    "from fractions import Fraction\n",
    "m = FullMatrix.zero(2,2,Fraction(0,1))\n",
    "for i in range(m.height):\n",
    "    for j in range(m.width):\n",
    "        m[i,j] = Fraction(j*i+1,4*j+2)\n",
    "        \n",
    "d = FullMatrix.zero(2,2,Fraction(0,1))\n",
    "for i in range(min(d.height,d.width)):\n",
    "        d[i,i] = Fraction(i,1)        \n",
    "print(m)\n",
    "print(d)\n",
    "print(\"m+d:\")\n",
    "print(m+d)\n",
    "print(\"m*d:\")\n",
    "print(m*d)\n",
    "\n",
    "print(\"LU(mn):\")\n",
    "print(m.lu()[0])\n",
    "print(m.lu()[1])\n",
    "\n",
    "print(\"L*U:\")\n",
    "print(m.lu()[0]*m.lu()[1])"
   ]
  },
  {
   "cell_type": "markdown",
   "id": "79457ea0",
   "metadata": {},
   "source": [
    "# Убедитесь, что ваша реализация LU разложения работает с блочными матрицами."
   ]
  },
  {
   "cell_type": "code",
   "execution_count": 1185,
   "id": "a280556b",
   "metadata": {
    "scrolled": false
   },
   "outputs": [
    {
     "data": {
      "text/plain": [
       "| | 1/2 1/6 | | 1/2 1/6 | |\n",
       "| | 1/2 1/3 | | 1/2 1/3 | |\n",
       "|                         |\n",
       "| | 1/2 1/6 | | 1/2 1/6 | |\n",
       "| | 1/2 1/3 | | 1/2 1/3 | |"
      ]
     },
     "execution_count": 1185,
     "metadata": {},
     "output_type": "execute_result"
    }
   ],
   "source": [
    "b = FullMatrix.zero(2,2,m)\n",
    "b"
   ]
  },
  {
   "cell_type": "code",
   "execution_count": 1186,
   "id": "e78938a8",
   "metadata": {},
   "outputs": [
    {
     "data": {
      "text/plain": [
       "| 1/2 1/6 |\n",
       "| 1/2 1/3 |"
      ]
     },
     "execution_count": 1186,
     "metadata": {},
     "output_type": "execute_result"
    }
   ],
   "source": [
    "m.inverse().inverse()"
   ]
  },
  {
   "cell_type": "code",
   "execution_count": 1187,
   "id": "d7b9e651",
   "metadata": {},
   "outputs": [
    {
     "data": {
      "text/plain": [
       "(| 1       0 |\n",
       " | | 1 0 | 1 |\n",
       " | | 0 1 |   |,\n",
       " | | 1/2 1/6 | | 1/2 1/6 | |\n",
       " | | 1/2 1/3 | | 1/2 1/3 | |\n",
       " |                         |\n",
       " | 0           | 0 0 |     |\n",
       " |             | 0 0 |     |)"
      ]
     },
     "execution_count": 1187,
     "metadata": {},
     "output_type": "execute_result"
    }
   ],
   "source": [
    "b.lu()"
   ]
  },
  {
   "cell_type": "code",
   "execution_count": 1188,
   "id": "5e126e6b",
   "metadata": {
    "scrolled": true
   },
   "outputs": [
    {
     "data": {
      "text/plain": [
       "| | 1/2 1/6 | | 1/2 1/6 | |\n",
       "| | 1/2 1/3 | | 1/2 1/3 | |\n",
       "|                         |\n",
       "| | 1/2 1/6 | | 1/2 1/6 | |\n",
       "| | 1/2 1/3 | | 1/2 1/3 | |"
      ]
     },
     "execution_count": 1188,
     "metadata": {},
     "output_type": "execute_result"
    }
   ],
   "source": [
    "b.lu()[0]*b.lu()[1]"
   ]
  },
  {
   "cell_type": "code",
   "execution_count": 1189,
   "id": "f633a64f",
   "metadata": {},
   "outputs": [
    {
     "data": {
      "text/plain": [
       "| | 27.0 | | 20.0 | |\n",
       "|                   |\n",
       "| | 14.0 | | 50.0 | |"
      ]
     },
     "execution_count": 1189,
     "metadata": {},
     "output_type": "execute_result"
    }
   ],
   "source": [
    "def r(h,w):\n",
    "    return FullMatrix(np.random.randint(0,100,(h,w)).astype(float))\n",
    "\n",
    "b = FullMatrix(np.array([[r(1,1) for i in range(2)] for _ in range(2)]))\n",
    "b"
   ]
  },
  {
   "cell_type": "code",
   "execution_count": 1190,
   "id": "6ee3115e",
   "metadata": {},
   "outputs": [
    {
     "data": {
      "text/plain": [
       "(| 1                      0 |\n",
       " | | 0.5185185185185185 | 1 |,\n",
       " | | 27.0 | | 20.0 |              |\n",
       " |                                |\n",
       " | 0        | 39.62962962962963 | |)"
      ]
     },
     "execution_count": 1190,
     "metadata": {},
     "output_type": "execute_result"
    }
   ],
   "source": [
    "b.lu()"
   ]
  },
  {
   "cell_type": "code",
   "execution_count": 1191,
   "id": "0f91226d",
   "metadata": {
    "scrolled": true
   },
   "outputs": [
    {
     "data": {
      "text/plain": [
       "| | 27.0 | | 20.0 | |\n",
       "|                   |\n",
       "| | 14.0 | | 50.0 | |"
      ]
     },
     "execution_count": 1191,
     "metadata": {},
     "output_type": "execute_result"
    }
   ],
   "source": [
    "b.lu()[0]*b.lu()[1]"
   ]
  },
  {
   "cell_type": "markdown",
   "id": "4c2f4a42",
   "metadata": {},
   "source": [
    "# Реализуйте LUP разложение с перестановкой строк"
   ]
  },
  {
   "cell_type": "code",
   "execution_count": null,
   "id": "c2536a3d",
   "metadata": {},
   "outputs": [],
   "source": []
  },
  {
   "cell_type": "markdown",
   "id": "0663558a",
   "metadata": {},
   "source": [
    "# Реализуйте метод прогонки и реализуйте метод Matrix.solve для решения линейных систем уравнений."
   ]
  }
 ],
 "metadata": {
  "kernelspec": {
   "display_name": "Python 3 (ipykernel)",
   "language": "python",
   "name": "python3"
  },
  "language_info": {
   "codemirror_mode": {
    "name": "ipython",
    "version": 3
   },
   "file_extension": ".py",
   "mimetype": "text/x-python",
   "name": "python",
   "nbconvert_exporter": "python",
   "pygments_lexer": "ipython3",
   "version": "3.9.6"
  }
 },
 "nbformat": 4,
 "nbformat_minor": 5
}
