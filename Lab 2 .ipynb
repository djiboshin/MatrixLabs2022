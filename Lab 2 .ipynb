{
 "cells": [
  {
   "cell_type": "code",
   "execution_count": 3,
   "id": "2b7e0a5b",
   "metadata": {},
   "outputs": [],
   "source": [
    "# import MatrixLib\n",
    "from MatrixLib import *\n",
    "from importlib import reload\n",
    "import numpy as np\n",
    "import numbers\n",
    "from fractions import Fraction\n"
   ]
  },
  {
   "cell_type": "markdown",
   "id": "415744c4",
   "metadata": {},
   "source": [
    "Общая канва:\n",
    "* Ввел алгебру (или поле или ВП, не знаю точно) с единицей и нулем, что позволило рекурсивно обрабатывать любую вложенность матриц любых типов\n",
    "* Ввел <code>\\_\\_eq__</code>, <code>\\_\\_neg__</code>,  <code>\\_\\_truediv__</code>\n",
    "* <code>\\_\\_abs__</code> действует аналогично нумпаю\n",
    "* <code>\\_\\_sub__</code>, <code>\\_\\_add__</code>, <code>\\_\\_rsub__</code> действуют по правилу $A-1 = A- 1E$, где $E$ -- единичный элемент. Такое определение позволило отождествить $E$ и $1$, $0$ и $O$.\n",
    "* <code>.norm(norm='F')</code> возвращает норму матрицы, F -- фробениуса. Это необходимо, чтобы использовать LUP разложение на волженных матрицах\n",
    "* Транспонирование <code>.T</code> учитывает вложенность матриц"
   ]
  },
  {
   "cell_type": "markdown",
   "id": "65a61ec6",
   "metadata": {},
   "source": [
    "# 1 Напишите метод lu для класса Matrix, выполняющий LU разложение."
   ]
  },
  {
   "cell_type": "code",
   "execution_count": 2,
   "id": "1cbf31c8",
   "metadata": {
    "scrolled": false
   },
   "outputs": [
    {
     "data": {
      "text/plain": [
       "| 2.0 2.0 |\n",
       "| 1.0 2.0 |"
      ]
     },
     "execution_count": 2,
     "metadata": {},
     "output_type": "execute_result"
    }
   ],
   "source": [
    "m = FullMatrix(np.array([[2.,2.], [1.,2.]]))\n",
    "m"
   ]
  },
  {
   "cell_type": "code",
   "execution_count": 3,
   "id": "916aad63",
   "metadata": {
    "scrolled": true
   },
   "outputs": [
    {
     "name": "stdout",
     "output_type": "stream",
     "text": [
      "| 1.0 0.0 |\n",
      "| 0.5 1.0 |\n",
      "\n",
      "| 2.0 2.0 |\n",
      "| 0.0 1.0 |\n",
      "\n",
      "True\n"
     ]
    }
   ],
   "source": [
    "a, b = m.lu()\n",
    "print(a, b ,a*b == m, sep='\\n\\n')"
   ]
  },
  {
   "cell_type": "markdown",
   "id": "a5c985f9",
   "metadata": {},
   "source": [
    "### Красивости:"
   ]
  },
  {
   "cell_type": "code",
   "execution_count": 4,
   "id": "e99c3e06",
   "metadata": {},
   "outputs": [
    {
     "data": {
      "text/plain": [
       "| 1.0 0.0 |\n",
       "| 0.0 1.0 |"
      ]
     },
     "execution_count": 4,
     "metadata": {},
     "output_type": "execute_result"
    }
   ],
   "source": [
    "a / a "
   ]
  },
  {
   "cell_type": "code",
   "execution_count": 5,
   "id": "6b5a21c2",
   "metadata": {
    "scrolled": true
   },
   "outputs": [
    {
     "data": {
      "text/plain": [
       "| -9.0 0.0  |\n",
       "| 0.5  -9.0 |"
      ]
     },
     "execution_count": 5,
     "metadata": {},
     "output_type": "execute_result"
    }
   ],
   "source": [
    "a - 10"
   ]
  },
  {
   "cell_type": "code",
   "execution_count": 6,
   "id": "ca50b50a",
   "metadata": {},
   "outputs": [
    {
     "data": {
      "text/plain": [
       "| -1.0 -0.0 |\n",
       "| -0.5 -1.0 |"
      ]
     },
     "execution_count": 6,
     "metadata": {},
     "output_type": "execute_result"
    }
   ],
   "source": [
    "-a"
   ]
  },
  {
   "cell_type": "code",
   "execution_count": 7,
   "id": "2fab18ec",
   "metadata": {},
   "outputs": [
    {
     "data": {
      "text/plain": [
       "| 1.0 0.0 |\n",
       "| 0.0 1.0 |"
      ]
     },
     "execution_count": 7,
     "metadata": {},
     "output_type": "execute_result"
    }
   ],
   "source": [
    "a.eye_like()"
   ]
  },
  {
   "cell_type": "code",
   "execution_count": 8,
   "id": "bffdc909",
   "metadata": {},
   "outputs": [
    {
     "data": {
      "text/plain": [
       "| 0.0 0.0 |\n",
       "| 0.0 0.0 |"
      ]
     },
     "execution_count": 8,
     "metadata": {},
     "output_type": "execute_result"
    }
   ],
   "source": [
    "a.zero_like()"
   ]
  },
  {
   "cell_type": "markdown",
   "id": "5538ec1f",
   "metadata": {},
   "source": [
    "### Еще красивость:"
   ]
  },
  {
   "cell_type": "code",
   "execution_count": 9,
   "id": "f121df5e",
   "metadata": {
    "scrolled": true
   },
   "outputs": [
    {
     "name": "stdout",
     "output_type": "stream",
     "text": [
      "A:\n",
      "| 1.0 0.0 |\n",
      "| 0.0 1.0 |\n"
     ]
    }
   ],
   "source": [
    "A = a.eye_like()\n",
    "print('A:', A, sep='\\n')"
   ]
  },
  {
   "cell_type": "code",
   "execution_count": 10,
   "id": "16dcdad8",
   "metadata": {},
   "outputs": [
    {
     "name": "stdout",
     "output_type": "stream",
     "text": [
      "B:\n",
      "| | 1.0 0.0 | 0           |\n",
      "| | 0.0 1.0 |             |\n",
      "|                         |\n",
      "| 0           | 1.0 0.0 | |\n",
      "|             | 0.0 1.0 | |\n"
     ]
    }
   ],
   "source": [
    "B = FullMatrix([[a.eye_like(), 0], [0, a.eye_like()]])\n",
    "print('B:', B, sep='\\n')"
   ]
  },
  {
   "cell_type": "code",
   "execution_count": 11,
   "id": "dee83724",
   "metadata": {},
   "outputs": [
    {
     "name": "stdout",
     "output_type": "stream",
     "text": [
      "A == B\n",
      "True\n"
     ]
    }
   ],
   "source": [
    "print('A == B', a.eye_like() == FullMatrix([[a.eye_like(), 0], [0, a.eye_like()]]), sep='\\n')"
   ]
  },
  {
   "cell_type": "markdown",
   "id": "fadd9650",
   "metadata": {},
   "source": [
    "# 2 Реализуйте метод det"
   ]
  },
  {
   "cell_type": "markdown",
   "id": "3de1fda1",
   "metadata": {},
   "source": [
    "Сделал уровень вложенности det"
   ]
  },
  {
   "cell_type": "code",
   "execution_count": 12,
   "id": "074e2776",
   "metadata": {
    "scrolled": true
   },
   "outputs": [
    {
     "data": {
      "text/plain": [
       "2.0"
      ]
     },
     "execution_count": 12,
     "metadata": {},
     "output_type": "execute_result"
    }
   ],
   "source": [
    "m.det()"
   ]
  },
  {
   "cell_type": "markdown",
   "id": "25fc8676",
   "metadata": {},
   "source": [
    "Пример вложенности матриц в матрицу матриц. Можно искать det(1) , det(2) и тд. det() -- поиск определителя, пока не будет число"
   ]
  },
  {
   "cell_type": "code",
   "execution_count": 13,
   "id": "5ea27b9d",
   "metadata": {},
   "outputs": [
    {
     "name": "stdout",
     "output_type": "stream",
     "text": [
      "| | | 1/68 | | 1/64 | | | | 1/59 | | 1/99 | | |\n",
      "| |                   | |                   | |\n",
      "| | | 1/86 | | 1/40 | | | | 1/57 | | 1/82 | | |\n",
      "|                                             |\n",
      "| | | 1/89 | | 1/24 | | | | 1/5 |  | 1/75 | | |\n",
      "| |                   | |                   | |\n",
      "| | | 1/84 | | 1/46 | | | | 1/95 | | 1/39 | | |\n",
      "\n",
      "| | 49088122663/19548530340480 | | 499039986557/3067253346643200 | |\n",
      "|                                                                  |\n",
      "| | 58948144949/30903926641200 | | 301828749923/969793337541600 |  |\n",
      "\n",
      "| 360335395022783/764745584835735360000 |\n",
      "\n",
      "360335395022783/764745584835735360000\n"
     ]
    }
   ],
   "source": [
    "d_m = 2\n",
    "b_m = 2\n",
    "d_rand = np.random.randint(1, 100, (d_m, b_m, d_m, b_m))\n",
    "d_array = 1 / d_rand\n",
    "vf = np.vectorize(lambda x: FullMatrix([[Fraction(1, x)]]))\n",
    "d_array_frac = vf(d_rand)\n",
    "d = FullMatrix(np.array([\n",
    "    [FullMatrix(d_array_frac[i, :, j, :]) for j in range(d_m)] for i in range(d_m)\n",
    "]))\n",
    "\n",
    "print(d)\n",
    "print()\n",
    "print(d.det(1))\n",
    "print()\n",
    "print(d.det(2))\n",
    "print()\n",
    "print(d.det(3))"
   ]
  },
  {
   "cell_type": "code",
   "execution_count": 14,
   "id": "714e0a46",
   "metadata": {},
   "outputs": [
    {
     "name": "stdout",
     "output_type": "stream",
     "text": [
      "| | 1/4  1/21 | | 1/25 1/54 | |\n",
      "| | 1/63 1/89 | | 1/91 1/79 | |\n",
      "|                             |\n",
      "| | 1/62 1/63 | | 1/41 1/84 | |\n",
      "| | 1/48 1/13 | | 1/2  1/84 | |\n",
      "\n",
      "| 2424847688/109048082325     -12044666087/1955058212016 |\n",
      "| 425758744016/87347513942325 -11336321519/9911402707752 |\n",
      "\n",
      "18596404154/4046077758033675\n"
     ]
    }
   ],
   "source": [
    "d_m = 2\n",
    "b_m = 2\n",
    "d_rand = np.random.randint(1, 100, (d_m, b_m, d_m, b_m))\n",
    "d_array = 1 / d_rand\n",
    "vf = np.vectorize(lambda x: Fraction(1, x))\n",
    "d_array_frac = vf(d_rand)\n",
    "d = FullMatrix(np.array([\n",
    "    [FullMatrix(d_array_frac[i, :, j, :]) for j in range(d_m)] for i in range(d_m)\n",
    "]))\n",
    "\n",
    "print(d)\n",
    "print()\n",
    "print(d.det(1))\n",
    "print()\n",
    "print(d.det(2))"
   ]
  },
  {
   "cell_type": "markdown",
   "id": "06eccde9",
   "metadata": {},
   "source": [
    "# Убедитесь, что ваша реализация LU разложения работает с блочными матрицами."
   ]
  },
  {
   "cell_type": "code",
   "execution_count": 15,
   "id": "eff1fa80",
   "metadata": {
    "scrolled": true
   },
   "outputs": [
    {
     "name": "stdout",
     "output_type": "stream",
     "text": [
      "| | 1/4  1/21 | | 1/25 1/54 | |\n",
      "| | 1/63 1/89 | | 1/91 1/79 | |\n",
      "|                             |\n",
      "| | 1/62 1/63 | | 1/41 1/84 | |\n",
      "| | 1/48 1/13 | | 1/2  1/84 | |\n",
      "\n",
      "| | 1 0 |                       | 0 0 | |\n",
      "| | 0 1 |                       | 0 0 | |\n",
      "|                                       |\n",
      "| | -3098/89931  46725/29977  | | 1 0 | |\n",
      "| | -24171/50284 446691/50284 | | 0 1 | |\n",
      "\n",
      "| | 1/4  1/21 | | 1/25 1/54 |                                |\n",
      "| | 1/63 1/89 | | 1/91 1/79 |                                |\n",
      "|                                                            |\n",
      "| | 0 0 |       | 10353184/1198330575 -38604971/5371039044 | |\n",
      "| | 0 0 |       | 1722512/4085575     -45868891/500526936  | |\n",
      "\n",
      "True\n"
     ]
    }
   ],
   "source": [
    "l, u = d.lu()\n",
    "print(d, l, u, d == l * u, sep ='\\n\\n')"
   ]
  },
  {
   "cell_type": "markdown",
   "id": "6c0d38f3",
   "metadata": {},
   "source": [
    "# Реализуйте LUP разложение с перестановкой строк\n",
    "Предъявите матрицу, на которой LUP разложение работает, а LU - нет. Пример:"
   ]
  },
  {
   "cell_type": "code",
   "execution_count": 16,
   "id": "0abd622e",
   "metadata": {
    "scrolled": true
   },
   "outputs": [
    {
     "name": "stderr",
     "output_type": "stream",
     "text": [
      "C:\\Users\\vigos\\JupyterProjects\\MatrixLabs\\MatrixLabs2022\\MatrixLib\\Matrixs.py:10: RuntimeWarning: divide by zero encountered in long_scalars\n",
      "  return 1 / element\n"
     ]
    },
    {
     "ename": "OverflowError",
     "evalue": "cannot convert float infinity to integer",
     "output_type": "error",
     "traceback": [
      "\u001b[1;31m---------------------------------------------------------------------------\u001b[0m",
      "\u001b[1;31mOverflowError\u001b[0m                             Traceback (most recent call last)",
      "\u001b[1;32m~\\AppData\\Local\\Temp/ipykernel_17488/137850712.py\u001b[0m in \u001b[0;36m<module>\u001b[1;34m\u001b[0m\n\u001b[0;32m      1\u001b[0m \u001b[0mtest_a\u001b[0m \u001b[1;33m=\u001b[0m \u001b[0mFullMatrix\u001b[0m\u001b[1;33m(\u001b[0m\u001b[1;33m[\u001b[0m\u001b[1;33m[\u001b[0m\u001b[1;36m0\u001b[0m\u001b[1;33m,\u001b[0m\u001b[1;36m1\u001b[0m\u001b[1;33m]\u001b[0m\u001b[1;33m,\u001b[0m \u001b[1;33m[\u001b[0m\u001b[1;36m2\u001b[0m\u001b[1;33m,\u001b[0m\u001b[1;36m3\u001b[0m\u001b[1;33m]\u001b[0m\u001b[1;33m]\u001b[0m\u001b[1;33m)\u001b[0m\u001b[1;33m\u001b[0m\u001b[1;33m\u001b[0m\u001b[0m\n\u001b[1;32m----> 2\u001b[1;33m \u001b[0mtest_a\u001b[0m\u001b[1;33m.\u001b[0m\u001b[0mlu\u001b[0m\u001b[1;33m(\u001b[0m\u001b[1;33m)\u001b[0m\u001b[1;33m\u001b[0m\u001b[1;33m\u001b[0m\u001b[0m\n\u001b[0m",
      "\u001b[1;32m~\\JupyterProjects\\MatrixLabs\\MatrixLabs2022\\MatrixLib\\Matrixs.py\u001b[0m in \u001b[0;36mlu\u001b[1;34m(self)\u001b[0m\n\u001b[0;32m    416\u001b[0m \u001b[1;33m\u001b[0m\u001b[0m\n\u001b[0;32m    417\u001b[0m     \u001b[1;32mdef\u001b[0m \u001b[0mlu\u001b[0m\u001b[1;33m(\u001b[0m\u001b[0mself\u001b[0m\u001b[1;33m)\u001b[0m\u001b[1;33m:\u001b[0m\u001b[1;33m\u001b[0m\u001b[1;33m\u001b[0m\u001b[0m\n\u001b[1;32m--> 418\u001b[1;33m         \u001b[0mL\u001b[0m\u001b[1;33m,\u001b[0m \u001b[0mU\u001b[0m \u001b[1;33m=\u001b[0m \u001b[0msuper\u001b[0m\u001b[1;33m(\u001b[0m\u001b[1;33m)\u001b[0m\u001b[1;33m.\u001b[0m\u001b[0mlu\u001b[0m\u001b[1;33m(\u001b[0m\u001b[1;33m)\u001b[0m\u001b[1;33m\u001b[0m\u001b[1;33m\u001b[0m\u001b[0m\n\u001b[0m\u001b[0;32m    419\u001b[0m         \u001b[1;32mreturn\u001b[0m \u001b[0mL\u001b[0m\u001b[1;33m,\u001b[0m \u001b[0mU\u001b[0m\u001b[1;33m\u001b[0m\u001b[1;33m\u001b[0m\u001b[0m\n\u001b[0;32m    420\u001b[0m \u001b[1;33m\u001b[0m\u001b[0m\n",
      "\u001b[1;32m~\\JupyterProjects\\MatrixLabs\\MatrixLabs2022\\MatrixLib\\Matrixs.py\u001b[0m in \u001b[0;36mlu\u001b[1;34m(self)\u001b[0m\n\u001b[0;32m    263\u001b[0m                         \u001b[0macc\u001b[0m \u001b[1;33m=\u001b[0m \u001b[0madd\u001b[0m \u001b[1;32mif\u001b[0m \u001b[0macc\u001b[0m \u001b[1;32mis\u001b[0m \u001b[1;32mNone\u001b[0m \u001b[1;32melse\u001b[0m \u001b[1;33m(\u001b[0m\u001b[0macc\u001b[0m \u001b[1;33m+\u001b[0m \u001b[0madd\u001b[0m\u001b[1;33m)\u001b[0m\u001b[1;33m\u001b[0m\u001b[1;33m\u001b[0m\u001b[0m\n\u001b[0;32m    264\u001b[0m                     \u001b[0mL\u001b[0m\u001b[1;33m[\u001b[0m\u001b[0mr\u001b[0m\u001b[1;33m,\u001b[0m \u001b[0mc\u001b[0m\u001b[1;33m]\u001b[0m \u001b[1;33m=\u001b[0m \u001b[0mself\u001b[0m\u001b[1;33m[\u001b[0m\u001b[0mr\u001b[0m\u001b[1;33m,\u001b[0m \u001b[0mc\u001b[0m\u001b[1;33m]\u001b[0m \u001b[1;32mif\u001b[0m \u001b[0macc\u001b[0m \u001b[1;32mis\u001b[0m \u001b[1;32mNone\u001b[0m \u001b[1;32melse\u001b[0m \u001b[1;33m(\u001b[0m\u001b[0mself\u001b[0m\u001b[1;33m[\u001b[0m\u001b[0mr\u001b[0m\u001b[1;33m,\u001b[0m \u001b[0mc\u001b[0m\u001b[1;33m]\u001b[0m \u001b[1;33m-\u001b[0m \u001b[0macc\u001b[0m\u001b[1;33m)\u001b[0m\u001b[1;33m\u001b[0m\u001b[1;33m\u001b[0m\u001b[0m\n\u001b[1;32m--> 265\u001b[1;33m                     \u001b[0mL\u001b[0m\u001b[1;33m[\u001b[0m\u001b[0mr\u001b[0m\u001b[1;33m,\u001b[0m \u001b[0mc\u001b[0m\u001b[1;33m]\u001b[0m \u001b[1;33m=\u001b[0m \u001b[0mL\u001b[0m\u001b[1;33m[\u001b[0m\u001b[0mr\u001b[0m\u001b[1;33m,\u001b[0m \u001b[0mc\u001b[0m\u001b[1;33m]\u001b[0m \u001b[1;33m*\u001b[0m \u001b[0minvert_element\u001b[0m\u001b[1;33m(\u001b[0m\u001b[0mU\u001b[0m\u001b[1;33m[\u001b[0m\u001b[0mc\u001b[0m\u001b[1;33m,\u001b[0m \u001b[0mc\u001b[0m\u001b[1;33m]\u001b[0m\u001b[1;33m)\u001b[0m\u001b[1;33m\u001b[0m\u001b[1;33m\u001b[0m\u001b[0m\n\u001b[0m\u001b[0;32m    266\u001b[0m         \u001b[1;32mreturn\u001b[0m \u001b[0mL\u001b[0m\u001b[1;33m,\u001b[0m \u001b[0mU\u001b[0m\u001b[1;33m\u001b[0m\u001b[1;33m\u001b[0m\u001b[0m\n\u001b[0;32m    267\u001b[0m \u001b[1;33m\u001b[0m\u001b[0m\n",
      "\u001b[1;32m~\\JupyterProjects\\MatrixLabs\\MatrixLabs2022\\MatrixLib\\Matrixs.py\u001b[0m in \u001b[0;36m__setitem__\u001b[1;34m(self, key, value)\u001b[0m\n\u001b[0;32m    413\u001b[0m     \u001b[1;32mdef\u001b[0m \u001b[0m__setitem__\u001b[0m\u001b[1;33m(\u001b[0m\u001b[0mself\u001b[0m\u001b[1;33m,\u001b[0m \u001b[0mkey\u001b[0m\u001b[1;33m,\u001b[0m \u001b[0mvalue\u001b[0m\u001b[1;33m)\u001b[0m\u001b[1;33m:\u001b[0m\u001b[1;33m\u001b[0m\u001b[1;33m\u001b[0m\u001b[0m\n\u001b[0;32m    414\u001b[0m         \u001b[0mrow\u001b[0m\u001b[1;33m,\u001b[0m \u001b[0mcolumn\u001b[0m \u001b[1;33m=\u001b[0m \u001b[0mkey\u001b[0m\u001b[1;33m\u001b[0m\u001b[1;33m\u001b[0m\u001b[0m\n\u001b[1;32m--> 415\u001b[1;33m         \u001b[0mself\u001b[0m\u001b[1;33m.\u001b[0m\u001b[0mdata\u001b[0m\u001b[1;33m[\u001b[0m\u001b[0mrow\u001b[0m\u001b[1;33m,\u001b[0m \u001b[0mcolumn\u001b[0m\u001b[1;33m]\u001b[0m \u001b[1;33m=\u001b[0m \u001b[0mvalue\u001b[0m\u001b[1;33m\u001b[0m\u001b[1;33m\u001b[0m\u001b[0m\n\u001b[0m\u001b[0;32m    416\u001b[0m \u001b[1;33m\u001b[0m\u001b[0m\n\u001b[0;32m    417\u001b[0m     \u001b[1;32mdef\u001b[0m \u001b[0mlu\u001b[0m\u001b[1;33m(\u001b[0m\u001b[0mself\u001b[0m\u001b[1;33m)\u001b[0m\u001b[1;33m:\u001b[0m\u001b[1;33m\u001b[0m\u001b[1;33m\u001b[0m\u001b[0m\n",
      "\u001b[1;31mOverflowError\u001b[0m: cannot convert float infinity to integer"
     ]
    }
   ],
   "source": [
    "test_a = FullMatrix([[0,1], [2,3]])\n",
    "test_a.lu()"
   ]
  },
  {
   "cell_type": "code",
   "execution_count": 17,
   "id": "39e94e6d",
   "metadata": {
    "scrolled": true
   },
   "outputs": [
    {
     "data": {
      "text/plain": [
       "(| 1 0 |\n",
       " | 0 1 |,\n",
       " | 2 3 |\n",
       " | 0 1 |,\n",
       " | 0 1 |\n",
       " | 1 0 |)"
      ]
     },
     "execution_count": 17,
     "metadata": {},
     "output_type": "execute_result"
    }
   ],
   "source": [
    "l,u,p = test_a.lup()\n",
    "l, u, p "
   ]
  },
  {
   "cell_type": "code",
   "execution_count": 18,
   "id": "057b5285",
   "metadata": {},
   "outputs": [
    {
     "data": {
      "text/plain": [
       "True"
      ]
     },
     "execution_count": 18,
     "metadata": {},
     "output_type": "execute_result"
    }
   ],
   "source": [
    "l * u == p * test_a"
   ]
  },
  {
   "cell_type": "markdown",
   "id": "abe00730",
   "metadata": {},
   "source": [
    "Протестим lup еще на блочных матрицах. Все работает рекурсивно из-за введеения алгебры матриц"
   ]
  },
  {
   "cell_type": "code",
   "execution_count": 19,
   "id": "8c9aec5c",
   "metadata": {},
   "outputs": [
    {
     "data": {
      "text/plain": [
       "| | 1 0 |                       | 0 0 | |\n",
       "| | 0 1 |                       | 0 0 | |\n",
       "|                                       |\n",
       "| | -3098/89931  46725/29977  | | 1 0 | |\n",
       "| | -24171/50284 446691/50284 | | 0 1 | |"
      ]
     },
     "execution_count": 19,
     "metadata": {},
     "output_type": "execute_result"
    }
   ],
   "source": [
    "l, u, p = d.lup()\n",
    "l"
   ]
  },
  {
   "cell_type": "code",
   "execution_count": 20,
   "id": "3d53f718",
   "metadata": {},
   "outputs": [
    {
     "data": {
      "text/plain": [
       "True"
      ]
     },
     "execution_count": 20,
     "metadata": {},
     "output_type": "execute_result"
    }
   ],
   "source": [
    "p * l * u == d"
   ]
  },
  {
   "cell_type": "markdown",
   "id": "4de818f2",
   "metadata": {},
   "source": [
    "кроме того, я сразу переписал .inverse() на lup вместо lu"
   ]
  },
  {
   "cell_type": "markdown",
   "id": "325576f9",
   "metadata": {},
   "source": [
    "# Реализуйте метод прогонки и реализуйте метод Matrix.solve для решения линейных систем уравнений."
   ]
  },
  {
   "cell_type": "markdown",
   "id": "f29ea6af",
   "metadata": {},
   "source": [
    "Решим d*x = B"
   ]
  },
  {
   "cell_type": "code",
   "execution_count": 21,
   "id": "3df94422",
   "metadata": {
    "scrolled": true
   },
   "outputs": [
    {
     "name": "stdout",
     "output_type": "stream",
     "text": [
      "| | 1/4  1/21 | | 1/25 1/54 | |\n",
      "| | 1/63 1/89 | | 1/91 1/79 | |\n",
      "|                             |\n",
      "| | 1/62 1/63 | | 1/41 1/84 | |\n",
      "| | 1/48 1/13 | | 1/2  1/84 | |\n"
     ]
    }
   ],
   "source": [
    "print(d)"
   ]
  },
  {
   "cell_type": "code",
   "execution_count": 22,
   "id": "b7223a8f",
   "metadata": {},
   "outputs": [
    {
     "data": {
      "text/plain": [
       "| 1 |\n",
       "| 0 |"
      ]
     },
     "execution_count": 22,
     "metadata": {},
     "output_type": "execute_result"
    }
   ],
   "source": [
    "B = FullMatrix([[1], [0]])\n",
    "B"
   ]
  },
  {
   "cell_type": "code",
   "execution_count": 23,
   "id": "0f7fb233",
   "metadata": {},
   "outputs": [
    {
     "data": {
      "text/plain": [
       "| | 4776666699825/1041398632624  4153546551375/148771233232     | |\n",
       "| | -1655339771475/1190169865856 -329728020274107/1190169865856 | |\n",
       "|                                                                 |\n",
       "| | 1109403509175/8331189060992 41995773306825/1190169865856 |    |\n",
       "| | -43075881675/9298202077     2410766830017/9298202077     |    |"
      ]
     },
     "execution_count": 23,
     "metadata": {},
     "output_type": "execute_result"
    }
   ],
   "source": [
    "x = d.solve(B)\n",
    "x"
   ]
  },
  {
   "cell_type": "code",
   "execution_count": 24,
   "id": "0e349365",
   "metadata": {
    "scrolled": true
   },
   "outputs": [
    {
     "data": {
      "text/plain": [
       "| | 1 0 | |\n",
       "| | 0 1 | |\n",
       "|         |\n",
       "| | 0 0 | |\n",
       "| | 0 0 | |"
      ]
     },
     "execution_count": 24,
     "metadata": {},
     "output_type": "execute_result"
    }
   ],
   "source": [
    "d * x"
   ]
  },
  {
   "cell_type": "markdown",
   "id": "01320bb1",
   "metadata": {},
   "source": [
    "Совпало с B:"
   ]
  },
  {
   "cell_type": "code",
   "execution_count": 25,
   "id": "9c426620",
   "metadata": {},
   "outputs": [
    {
     "data": {
      "text/plain": [
       "True"
      ]
     },
     "execution_count": 25,
     "metadata": {},
     "output_type": "execute_result"
    }
   ],
   "source": [
    "d*x == B"
   ]
  },
  {
   "cell_type": "markdown",
   "id": "d3f2e1a0",
   "metadata": {},
   "source": [
    "# Реализуйте класс SymmetricMatrix, хранящий симметричные матрицы. Убедитесь, что метод Matrix.lu корректно работает с этим классом. Модифицируйте этот метод для класса SymmetricMatrix так, чтобы он использовал симметричность матрицы и работал в два раза быстрее."
   ]
  },
  {
   "cell_type": "markdown",
   "id": "2b687f52",
   "metadata": {},
   "source": [
    "Получилось. Чтобы создать матрицу, подается весь нумпай массив. По аргументу side='u' или 'd' используется либо верхняя часть массива для заполнения, либо нижняя. При этом блочные матрицы транспонируются, а матрицы, стоящие на диагонали сами становятся экземплярами SymmetricMatrix с тем же параметром side"
   ]
  },
  {
   "cell_type": "code",
   "execution_count": 26,
   "id": "ebca65c7",
   "metadata": {},
   "outputs": [
    {
     "data": {
      "text/plain": [
       "| | 78 63 | | 23 28 | |\n",
       "| | 63 65 | | 15 47 | |\n",
       "|                     |\n",
       "| | 23 15 | | 32 57 | |\n",
       "| | 28 47 | | 57 37 | |"
      ]
     },
     "execution_count": 26,
     "metadata": {},
     "output_type": "execute_result"
    }
   ],
   "source": [
    "d_m =2\n",
    "b_m =2\n",
    "d_rand = np.random.randint(1, 100, (d_m, b_m, d_m, b_m))\n",
    "d_array = 1 / d_rand\n",
    "vf = np.vectorize(lambda x: Fraction(x,1))\n",
    "d_array_frac = vf(d_rand)\n",
    "d = SymmetricMatrix(np.array([\n",
    "    [FullMatrix(d_array_frac[i, :, j, :]) for j in range(d_m)] for i in range(d_m)\n",
    "]))\n",
    "\n",
    "L, D = d.ldl()\n",
    "d"
   ]
  },
  {
   "cell_type": "code",
   "execution_count": 27,
   "id": "01099e5d",
   "metadata": {},
   "outputs": [
    {
     "data": {
      "text/plain": [
       "(MatrixLib.Matrixs.SymmetricMatrix, MatrixLib.Matrixs.FullMatrix)"
      ]
     },
     "execution_count": 27,
     "metadata": {},
     "output_type": "execute_result"
    }
   ],
   "source": [
    "type(d[0,0]), type(d[0,1])"
   ]
  },
  {
   "cell_type": "code",
   "execution_count": 28,
   "id": "b27fb98d",
   "metadata": {
    "scrolled": false
   },
   "outputs": [
    {
     "name": "stdout",
     "output_type": "stream",
     "text": [
      "d:\n",
      "\n",
      "| | 78 63 | | 23 28 | |\n",
      "| | 63 65 | | 15 47 | |\n",
      "|                     |\n",
      "| | 23 15 | | 32 57 | |\n",
      "| | 28 47 | | 57 37 | |\n",
      "\n",
      "L:\n",
      "\n",
      "| | 1 0 |                | 0 0 | |\n",
      "| | 0 1 |                | 0 0 | |\n",
      "|                                |\n",
      "| | 550/1101   -93/367 | | 1 0 | |\n",
      "| | -1141/1101 634/367 | | 0 1 | |\n",
      "\n",
      "D:\n",
      "\n",
      "| | 78 63 | | 0 0 |                    |\n",
      "| | 63 65 | | 0 0 |                    |\n",
      "|                                      |\n",
      "| | 0 0 |   | 26767/1101 60470/1101  | |\n",
      "| | 0 0 |   | 60470/1101 -16709/1101 | |\n",
      "\n",
      "LDLT == d\n",
      "\n",
      "True\n"
     ]
    }
   ],
   "source": [
    "print('d:',d, 'L:', L, 'D:', D, 'LDLT == d', L * D * L.T == d, sep='\\n\\n')"
   ]
  },
  {
   "cell_type": "markdown",
   "id": "bae7be79",
   "metadata": {},
   "source": [
    "# Реализуйте класс BandMatrix для хранения ленточных матриц. Убедитесь в работоспособности методов lu и solve."
   ]
  },
  {
   "cell_type": "markdown",
   "id": "88ce15bf",
   "metadata": {},
   "source": [
    "Проверка того, что можно делать .inverse()"
   ]
  },
  {
   "cell_type": "code",
   "execution_count": 29,
   "id": "6e2ebed0",
   "metadata": {},
   "outputs": [
    {
     "name": "stdout",
     "output_type": "stream",
     "text": [
      "| -93 91 0  0  |\n",
      "| -91 45 17 0  |\n",
      "| 0   17 88 0  |\n",
      "| 0   0  0  33 |\n",
      "E = BM*BM^-1:\n",
      "| 1 0 0 0 |\n",
      "| 0 1 0 0 |\n",
      "| 0 0 1 0 |\n",
      "| 0 0 0 1 |\n"
     ]
    }
   ],
   "source": [
    "p = {\n",
    "    -1: [Fraction(-91), Fraction(17), 0],\n",
    "    0: [Fraction(-93), Fraction(45), Fraction(88), Fraction(33)],\n",
    "    1: [Fraction(91), Fraction(17), 0],\n",
    "}\n",
    "BM = BandMatrix(p)\n",
    "print(BM)\n",
    "print('E = BM*BM^-1:')\n",
    "print(BM * BM.inverse())"
   ]
  },
  {
   "cell_type": "markdown",
   "id": "70ee0d0c",
   "metadata": {},
   "source": [
    "### Проверка матрицы $m$ из матриц"
   ]
  },
  {
   "cell_type": "code",
   "execution_count": 30,
   "id": "899c5224",
   "metadata": {
    "scrolled": true
   },
   "outputs": [
    {
     "data": {
      "text/plain": [
       "| | 0 1 |  | 7 8  |  0       0         |\n",
       "| | 2 3 |  | 9 10 |                    |\n",
       "|                                      |\n",
       "| 0        | 9  10 | | 2 3 | 0         |\n",
       "|          | 11 12 | | 4 5 |           |\n",
       "| | 7 8  | 0         | 6 7 | | 8  9  | |\n",
       "| | 9 10 |           | 8 9 | | 10 11 | |\n",
       "|                                      |\n",
       "| 0        | 0 1 |   0       | 9  10 | |\n",
       "|          | 2 3 |           | 11 12 | |"
      ]
     },
     "execution_count": 30,
     "metadata": {},
     "output_type": "execute_result"
    }
   ],
   "source": [
    "def block_FullMatrix(m: int, n: int, start_from: int = 1):\n",
    "    a = np.array([Fraction(x) for x in range(start_from, start_from + m*n)]).reshape((m, n))\n",
    "    return FullMatrix(a)\n",
    "\n",
    "p = {\n",
    "    0: [block_FullMatrix(2, 2, np.random.randint(0,10)) for i in range(4)],\n",
    "    1: [block_FullMatrix(2, 2, np.random.randint(0,10)) for i in range(3)],\n",
    "    -2: [block_FullMatrix(2, 2, np.random.randint(0,10)) for i in range(2)],\n",
    "}\n",
    "\n",
    "m = BandMatrix(p)\n",
    "m"
   ]
  },
  {
   "cell_type": "markdown",
   "id": "6142de7e",
   "metadata": {},
   "source": [
    "Проверка, что lu сработает"
   ]
  },
  {
   "cell_type": "code",
   "execution_count": 31,
   "id": "552062c8",
   "metadata": {
    "scrolled": true
   },
   "outputs": [
    {
     "data": {
      "text/plain": [
       "True"
      ]
     },
     "execution_count": 31,
     "metadata": {},
     "output_type": "execute_result"
    }
   ],
   "source": [
    "m.lu()[0] * m.lu()[1] == m"
   ]
  },
  {
   "cell_type": "markdown",
   "id": "0071f662",
   "metadata": {},
   "source": [
    "Проверка, что lup сработает"
   ]
  },
  {
   "cell_type": "code",
   "execution_count": 32,
   "id": "9510fff7",
   "metadata": {
    "scrolled": true
   },
   "outputs": [
    {
     "data": {
      "text/plain": [
       "True"
      ]
     },
     "execution_count": 32,
     "metadata": {},
     "output_type": "execute_result"
    }
   ],
   "source": [
    "m.lup()[2] * m.lup()[0] * m.lup()[1] == m"
   ]
  },
  {
   "cell_type": "markdown",
   "id": "ccdef85f",
   "metadata": {},
   "source": [
    "Проверка солвера. $m x = e_1$"
   ]
  },
  {
   "cell_type": "code",
   "execution_count": 33,
   "id": "a9ba4c93",
   "metadata": {},
   "outputs": [
    {
     "name": "stdout",
     "output_type": "stream",
     "text": [
      "True\n"
     ]
    },
    {
     "data": {
      "text/plain": [
       "(| | 0 1 |  | 7 8  |  0       0         |\n",
       " | | 2 3 |  | 9 10 |                    |\n",
       " |                                      |\n",
       " | 0        | 9  10 | | 2 3 | 0         |\n",
       " |          | 11 12 | | 4 5 |           |\n",
       " | | 7 8  | 0         | 6 7 | | 8  9  | |\n",
       " | | 9 10 |           | 8 9 | | 10 11 | |\n",
       " |                                      |\n",
       " | 0        | 0 1 |   0       | 9  10 | |\n",
       " |          | 2 3 |           | 11 12 | |,\n",
       " | 1 |\n",
       " | 0 |\n",
       " | 0 |\n",
       " | 0 |)"
      ]
     },
     "execution_count": 33,
     "metadata": {},
     "output_type": "execute_result"
    }
   ],
   "source": [
    "e = FullMatrix([[1],[0],[0],[0]])\n",
    "x = m.solve(e)\n",
    "print(m * x == e)\n",
    "m, e "
   ]
  },
  {
   "cell_type": "markdown",
   "id": "5168f9e7",
   "metadata": {},
   "source": [
    "## Воспользуйтесь реализованными классами для решения уравнения Пуассона Δf=g, использую операцию Лапласа из предыдущей лабораторной."
   ]
  },
  {
   "cell_type": "markdown",
   "id": "1f8af143",
   "metadata": {},
   "source": [
    "### 1 вариант\n",
    "Используем фуллматрицу. Но .solve делал для симметричных, потому что так быстрее)"
   ]
  },
  {
   "cell_type": "code",
   "execution_count": 5,
   "id": "2b459e37",
   "metadata": {},
   "outputs": [],
   "source": [
    "import matplotlib.pyplot as plt"
   ]
  },
  {
   "cell_type": "code",
   "execution_count": 153,
   "id": "eca33815",
   "metadata": {},
   "outputs": [],
   "source": [
    "def Laplace(N = 3,M = 4):\n",
    "    L = np.zeros((N,M,N,M), dtype=int)\n",
    "#     a, b, c, d, e = 'a', 'b', 'c', 'd', 'e'\n",
    "#     a, b, c, d, e = 1, 1, 1, 1, -4\n",
    "    a, b, c, d, e = Fraction(1), Fraction(1), Fraction(1), Fraction(1), Fraction(-4)\n",
    "    \n",
    "    indNdiag = np.arange(N)\n",
    "    indNup = np.roll(indNdiag, 1)\n",
    "    indNdown = np.roll(indNdiag, -1)\n",
    "    \n",
    "    indMdiag = np.arange(M)\n",
    "    indMup = np.roll(indMdiag, 1)\n",
    "    indMdown = np.roll(indMdiag, -1)\n",
    "    \n",
    "    for n in range(N):\n",
    "        L[n,indMdiag,indNdiag[n],indMdiag] = e\n",
    "        L[n,indMup,indNdiag[n],indMdiag] = c\n",
    "        L[n,indMdown,indNdiag[n],indMdiag] = d\n",
    "\n",
    "        L[n,indMdiag,indNup[n],indMdiag] = b\n",
    "\n",
    "        L[n,indMdiag,indNdown[n],indMdiag] = a\n",
    "\n",
    "    return L.reshape(N*M, N*M)\n",
    "\n",
    "\n"
   ]
  },
  {
   "cell_type": "code",
   "execution_count": 154,
   "id": "a468ffe9",
   "metadata": {},
   "outputs": [
    {
     "data": {
      "text/plain": [
       "Text(0.5, 1.0, 'g')"
      ]
     },
     "execution_count": 154,
     "metadata": {},
     "output_type": "execute_result"
    },
    {
     "data": {
      "image/png": "[encoded data removed]",
      "text/plain": [
       "<Figure size 432x288 with 1 Axes>"
      ]
     },
     "metadata": {
      "needs_background": "light"
     },
     "output_type": "display_data"
    }
   ],
   "source": [
    "M = 14\n",
    "N = 14\n",
    "x, y = np.meshgrid(np.linspace(0, 2*np.pi, M, endpoint=False), np.linspace(0, 2*np.pi, N, endpoint=False))\n",
    "u = np.sin(x)*np.sin(y)\n",
    "g = FullMatrix(u.reshape(1,N * M).T)\n",
    "\n",
    "Л = Laplace(M,N)\n",
    "Delta = SymmetricMatrix(Л)\n",
    "\n",
    "plt.imshow(u)\n",
    "plt.title('g')"
   ]
  },
  {
   "cell_type": "code",
   "execution_count": 155,
   "id": "68d4dc61",
   "metadata": {},
   "outputs": [],
   "source": [
    "f = Delta.solve(g)"
   ]
  },
  {
   "cell_type": "code",
   "execution_count": 156,
   "id": "d97473a8",
   "metadata": {},
   "outputs": [
    {
     "data": {
      "text/plain": [
       "<matplotlib.image.AxesImage at 0x226c09dfcd0>"
      ]
     },
     "execution_count": 156,
     "metadata": {},
     "output_type": "execute_result"
    },
    {
     "data": {
      "image/png": "[encoded data removed]",
      "text/plain": [
       "<Figure size 432x288 with 1 Axes>"
      ]
     },
     "metadata": {
      "needs_background": "light"
     },
     "output_type": "display_data"
    }
   ],
   "source": [
    "plt.imshow(np.array(f.data.reshape(M,N), dtype= float))"
   ]
  },
  {
   "cell_type": "markdown",
   "id": "6a7ae668",
   "metadata": {},
   "source": [
    "### 2 вариант.\n",
    "Используем блочную фулл матрицу"
   ]
  },
  {
   "cell_type": "code",
   "execution_count": 140,
   "id": "a660a027",
   "metadata": {},
   "outputs": [
    {
     "data": {
      "text/plain": [
       "| | -4 1  0  1  | 1               0               1               |\n",
       "| | 1  -4 1  0  |                                                 |\n",
       "| | 0  1  -4 1  |                                                 |\n",
       "| | 1  0  1  -4 |                                                 |\n",
       "|                                                                 |\n",
       "| 1               | -4 1  0  1  | 1               0               |\n",
       "|                 | 1  -4 1  0  |                                 |\n",
       "|                 | 0  1  -4 1  |                                 |\n",
       "|                 | 1  0  1  -4 |                                 |\n",
       "| 0               1               | -4 1  0  1  | 1               |\n",
       "|                                 | 1  -4 1  0  |                 |\n",
       "|                                 | 0  1  -4 1  |                 |\n",
       "|                                 | 1  0  1  -4 |                 |\n",
       "| 1               0               1               | -4 1  0  1  | |\n",
       "|                                                 | 1  -4 1  0  | |\n",
       "|                                                 | 0  1  -4 1  | |\n",
       "|                                                 | 1  0  1  -4 | |"
      ]
     },
     "execution_count": 140,
     "metadata": {},
     "output_type": "execute_result"
    }
   ],
   "source": [
    "def Laplace_matrix(N = 3,M = 4):\n",
    "    L = np.zeros((N,N), dtype=object)\n",
    "#     a, b, c, d, e = 'a', 'b', 'c', 'd', 'e'\n",
    "    a, b, c, d, e = 1, 1, 1, 1, -4\n",
    "#     a, b, c, d, e = Fraction(1), Fraction(1), Fraction(1), Fraction(1), Fraction(-4)\n",
    "    \n",
    "    indMdiag = np.arange(M)\n",
    "    indMup = np.roll(indMdiag, 1)\n",
    "    indMdown = np.roll(indMdiag, -1)\n",
    "    \n",
    "    diag_array = np.array([[Fraction(0) for _ in range(M)] for _ in range(M)])\n",
    "    diag_array[indMdiag,indMdiag] = e\n",
    "    diag_array[indMdiag,indMup] = b\n",
    "    diag_array[indMdiag,indMdown] = a\n",
    "    diag_blok = SymmetricMatrix(diag_array)\n",
    "    \n",
    "    for n in range(N):\n",
    "        L[n,n] = diag_blok\n",
    "        L[n,(n+1)%N] = 1\n",
    "        L[n,n-1] = 1\n",
    "    return SymmetricMatrix(L)\n",
    "Laplace_matrix(4,4)"
   ]
  },
  {
   "cell_type": "code",
   "execution_count": 150,
   "id": "3bccc338",
   "metadata": {},
   "outputs": [
    {
     "data": {
      "text/plain": [
       "Text(0.5, 1.0, 'g')"
      ]
     },
     "execution_count": 150,
     "metadata": {},
     "output_type": "execute_result"
    },
    {
     "data": {
      "image/png": "[encoded data removed]",
      "text/plain": [
       "<Figure size 432x288 with 1 Axes>"
      ]
     },
     "metadata": {
      "needs_background": "light"
     },
     "output_type": "display_data"
    }
   ],
   "source": [
    "M = 14\n",
    "N = 14\n",
    "x, y = np.meshgrid(np.linspace(0, 2*np.pi, M, endpoint=False), np.linspace(0, 2*np.pi, N, endpoint=False))\n",
    "u = np.sin(x)*np.sin(y)\n",
    "g = FullMatrix([[FullMatrix([[u[n,m]] for m in range(M)])] for n in range(N)])\n",
    "\n",
    "Delta = Laplace_matrix(M,N)\n",
    "\n",
    "plt.imshow(u)\n",
    "plt.title('g')"
   ]
  },
  {
   "cell_type": "code",
   "execution_count": 151,
   "id": "2282154e",
   "metadata": {},
   "outputs": [],
   "source": [
    "f = Delta.solve(g)"
   ]
  },
  {
   "cell_type": "code",
   "execution_count": 152,
   "id": "ecfad965",
   "metadata": {},
   "outputs": [
    {
     "data": {
      "text/plain": [
       "<matplotlib.image.AxesImage at 0x226c0ed4940>"
      ]
     },
     "execution_count": 152,
     "metadata": {},
     "output_type": "execute_result"
    },
    {
     "data": {
      "image/png": "[encoded data removed]",
      "text/plain": [
       "<Figure size 432x288 with 1 Axes>"
      ]
     },
     "metadata": {
      "needs_background": "light"
     },
     "output_type": "display_data"
    }
   ],
   "source": [
    "plt.imshow(np.array([x[0].data for x in f.data], dtype= float))"
   ]
  }
 ],
 "metadata": {
  "kernelspec": {
   "display_name": "Python 3 (ipykernel)",
   "language": "python",
   "name": "python3"
  },
  "language_info": {
   "codemirror_mode": {
    "name": "ipython",
    "version": 3
   },
   "file_extension": ".py",
   "mimetype": "text/x-python",
   "name": "python",
   "nbconvert_exporter": "python",
   "pygments_lexer": "ipython3",
   "version": "3.9.6"
  }
 },
 "nbformat": 4,
 "nbformat_minor": 5
}
