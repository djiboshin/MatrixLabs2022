{
 "cells": [
  {
   "cell_type": "code",
   "execution_count": 1,
   "id": "minute-choir",
   "metadata": {},
   "outputs": [],
   "source": [
    "import numpy as np\n",
    "import numba as nb\n",
    "import matplotlib.pyplot as plt\n",
    "\n",
    "import time"
   ]
  },
  {
   "cell_type": "code",
   "execution_count": 2,
   "id": "fifteen-miniature",
   "metadata": {},
   "outputs": [],
   "source": [
    "def benchmark(f, n: int or float = 10e5, args: tuple = None, kwargs: dict = None) -> np.array:\n",
    "    if args is None:\n",
    "        args = ()\n",
    "    if kwargs is None:\n",
    "        kwargs = {}\n",
    "    \n",
    "    start = time.process_time()\n",
    "    for _ in range(int(n)):\n",
    "        f(*args, **kwargs)\n",
    "    end = time.process_time()\n",
    "    return (end - start)/n"
   ]
  },
  {
   "cell_type": "code",
   "execution_count": 3,
   "id": "polish-guidance",
   "metadata": {},
   "outputs": [],
   "source": [
    "def test_matmul(f):\n",
    "    A = np.random.rand(10,2)\n",
    "    B = np.random.rand(2,5)\n",
    "    C = np.zeros((A.shape[0], B.shape[1]))\n",
    "    f(A, B, C)\n",
    "    return np.max(np.abs(np.dot(A, B) - C))\n",
    "\n",
    "def benchmark_matmul(f, Ns, n):\n",
    "    times = []\n",
    "    for N in Ns:\n",
    "        A = np.random.rand(N,N)\n",
    "        B = np.random.rand(N,N)\n",
    "        C = np.zeros((N, N))\n",
    "        times.append(benchmark(f, n, args=(A, B, C)))\n",
    "    return times"
   ]
  },
  {
   "cell_type": "code",
   "execution_count": 4,
   "id": "excessive-stomach",
   "metadata": {},
   "outputs": [],
   "source": [
    "def laplas_1(U, D, h=1):\n",
    "    K, J = U.shape\n",
    "    \n",
    "    for k in range(K):\n",
    "        for j in range(J):\n",
    "            D[k,j] = (U[(k-1) % K,j%J] + U[(k+1) % K,j % J] - 4*U[k%K,j%J] + U[k%K,(j+1)%J]+U[k%K,(j-1)%J])/h"
   ]
  },
  {
   "cell_type": "code",
   "execution_count": 5,
   "id": "saving-infrastructure",
   "metadata": {},
   "outputs": [
    {
     "data": {
      "text/plain": [
       "array([[0.4582257 , 0.94901556],\n",
       "       [0.50481571, 0.4875605 ]])"
      ]
     },
     "execution_count": 5,
     "metadata": {},
     "output_type": "execute_result"
    }
   ],
   "source": [
    "A = np.random.rand(2,2)\n",
    "ind = np.arange(2)\n",
    "A"
   ]
  },
  {
   "cell_type": "code",
   "execution_count": 6,
   "id": "final-duration",
   "metadata": {},
   "outputs": [
    {
     "data": {
      "text/plain": [
       "array([0.94901556, 0.4875605 ])"
      ]
     },
     "execution_count": 6,
     "metadata": {},
     "output_type": "execute_result"
    }
   ],
   "source": [
    "A[ind, 1]"
   ]
  },
  {
   "cell_type": "code",
   "execution_count": 7,
   "id": "postal-pavilion",
   "metadata": {},
   "outputs": [
    {
     "data": {
      "text/plain": [
       "array([0.4582257, 0.4875605])"
      ]
     },
     "execution_count": 7,
     "metadata": {},
     "output_type": "execute_result"
    }
   ],
   "source": [
    "A[ind, ind]"
   ]
  },
  {
   "cell_type": "code",
   "execution_count": 8,
   "id": "communist-string",
   "metadata": {},
   "outputs": [
    {
     "data": {
      "text/plain": [
       "array([[0.4582257 , 0.94901556],\n",
       "       [0.50481571, 0.4875605 ]])"
      ]
     },
     "execution_count": 8,
     "metadata": {},
     "output_type": "execute_result"
    }
   ],
   "source": [
    "A[ind]"
   ]
  },
  {
   "cell_type": "code",
   "execution_count": 10,
   "id": "powered-terminology",
   "metadata": {},
   "outputs": [
    {
     "data": {
      "text/plain": [
       "1"
      ]
     },
     "execution_count": 10,
     "metadata": {},
     "output_type": "execute_result"
    }
   ],
   "source": [
    "(11) % 10"
   ]
  },
  {
   "cell_type": "code",
   "execution_count": 11,
   "id": "victorian-carpet",
   "metadata": {
    "scrolled": true
   },
   "outputs": [],
   "source": [
    "U = np.eye(3)\n",
    "D = np.zeros((3,3))\n",
    "laplas_1(U,D)"
   ]
  },
  {
   "cell_type": "code",
   "execution_count": 12,
   "id": "expensive-vessel",
   "metadata": {},
   "outputs": [
    {
     "data": {
      "text/plain": [
       "array([[-4.,  2.,  2.],\n",
       "       [ 2., -4.,  2.],\n",
       "       [ 2.,  2., -4.]])"
      ]
     },
     "execution_count": 12,
     "metadata": {},
     "output_type": "execute_result"
    }
   ],
   "source": [
    "D"
   ]
  },
  {
   "cell_type": "code",
   "execution_count": 13,
   "id": "closing-honey",
   "metadata": {},
   "outputs": [
    {
     "data": {
      "text/plain": [
       "array([[-4.,  1.,  1.,  1.,  0.,  0.,  1.,  0.,  0.],\n",
       "       [ 1., -4.,  1.,  0.,  1.,  0.,  0.,  1.,  0.],\n",
       "       [ 1.,  1., -4.,  0.,  0.,  1.,  0.,  0.,  1.],\n",
       "       [ 1.,  0.,  0., -4.,  1.,  1.,  1.,  0.,  0.],\n",
       "       [ 0.,  1.,  0.,  1., -4.,  1.,  0.,  1.,  0.],\n",
       "       [ 0.,  0.,  1.,  1.,  1., -4.,  0.,  0.,  1.],\n",
       "       [ 1.,  0.,  0.,  1.,  0.,  0., -4.,  1.,  1.],\n",
       "       [ 0.,  1.,  0.,  0.,  1.,  0.,  1., -4.,  1.],\n",
       "       [ 0.,  0.,  1.,  0.,  0.,  1.,  1.,  1., -4.]])"
      ]
     },
     "execution_count": 13,
     "metadata": {},
     "output_type": "execute_result"
    }
   ],
   "source": [
    "def create_D(D, N=3, M=3):\n",
    "    pattern_1 = np.zeros((M,M))\n",
    "    pattern_1[0,0] = -4\n",
    "    pattern_1[0,1] = 1\n",
    "    pattern_1[0,-1] = 1\n",
    "    for n in range(M-1):\n",
    "        pattern_1[n+1] = np.roll(pattern_1[0],n+1)\n",
    "\n",
    "    pattern_2 = np.eye(M,M)\n",
    "    pattern_2\n",
    "    \n",
    "    for n in range(N):\n",
    "        D[M*n:M*(n+1),M*n:M*(n+1)] = pattern_1\n",
    "        for m in range(M):\n",
    "            D[M*n+m, (M*(n+1)+m) % (M*N)] = 1\n",
    "            D[M*n+m, (M*(n+2)+m) % (M*N)] = 1\n",
    "\n",
    "N, M = 3, 3\n",
    "D = np.zeros((N*M,N*M))\n",
    "create_D(D,N,M)\n",
    "D"
   ]
  },
  {
   "cell_type": "code",
   "execution_count": 22,
   "id": "completed-controversy",
   "metadata": {},
   "outputs": [
    {
     "data": {
      "text/plain": [
       "array([[-4.,  1.,  0.,  0.,  0.,  0.,  0.,  0.,  0.],\n",
       "       [ 1., -4.,  1.,  0.,  0.,  0.,  0.,  0.,  0.],\n",
       "       [ 0.,  1., -4.,  1.,  0.,  0.,  0.,  0.,  0.],\n",
       "       [ 0.,  0.,  1., -4.,  1.,  0.,  0.,  0.,  0.],\n",
       "       [ 0.,  0.,  0.,  1., -4.,  1.,  0.,  0.,  0.],\n",
       "       [ 0.,  0.,  0.,  0.,  1., -4.,  1.,  0.,  0.],\n",
       "       [ 0.,  0.,  0.,  0.,  0.,  1., -4.,  1.,  0.],\n",
       "       [ 0.,  0.,  0.,  0.,  0.,  0.,  1., -4.,  1.],\n",
       "       [ 0.,  0.,  0.,  0.,  0.,  0.,  0.,  1., -4.]])"
      ]
     },
     "execution_count": 22,
     "metadata": {},
     "output_type": "execute_result"
    }
   ],
   "source": [
    "def create_D_slice(D, N=3, M=3):\n",
    "    D.reshape((N,M,N,M))\n",
    "    diag_ind = np.arange(N*M)\n",
    "#     up_diag = diag_ind[]\n",
    "    D[diag_ind, diag_ind] = -4\n",
    "    D[diag_ind[:-1], diag_ind[1:]] = 1\n",
    "    D[diag_ind[1:], diag_ind[:-1]] = 1\n",
    "#     for i in range(N):\n",
    "        \n",
    "#     D[diag_ind, M:M*N:M] =1\n",
    "    \n",
    "N, M = 3, 3\n",
    "D = np.zeros((N*M,N*M))\n",
    "create_D_slice(D,N,M)\n",
    "D"
   ]
  },
  {
   "cell_type": "code",
   "execution_count": 153,
   "id": "surrounded-party",
   "metadata": {},
   "outputs": [
    {
     "data": {
      "text/plain": [
       "0.000165625"
      ]
     },
     "execution_count": 153,
     "metadata": {},
     "output_type": "execute_result"
    }
   ],
   "source": [
    "N, M = 10,10\n",
    "D = np.zeros((N*M,N*M))\n",
    "benchmark(create_D, n=10e3, kwargs={'D': D, 'N':N,'M':M})"
   ]
  },
  {
   "cell_type": "code",
   "execution_count": 102,
   "id": "failing-dividend",
   "metadata": {
    "scrolled": true
   },
   "outputs": [
    {
     "data": {
      "text/plain": [
       "array([[[[0., 0., 0.],\n",
       "         [0., 0., 0.],\n",
       "         [0., 0., 0.]],\n",
       "\n",
       "        [[0., 0., 0.],\n",
       "         [0., 0., 0.],\n",
       "         [0., 0., 0.]],\n",
       "\n",
       "        [[0., 0., 0.],\n",
       "         [0., 0., 0.],\n",
       "         [0., 0., 0.]]],\n",
       "\n",
       "\n",
       "       [[[0., 0., 0.],\n",
       "         [0., 0., 0.],\n",
       "         [0., 0., 0.]],\n",
       "\n",
       "        [[0., 0., 0.],\n",
       "         [0., 0., 0.],\n",
       "         [0., 0., 0.]],\n",
       "\n",
       "        [[0., 0., 0.],\n",
       "         [0., 0., 0.],\n",
       "         [0., 0., 0.]]],\n",
       "\n",
       "\n",
       "       [[[0., 0., 0.],\n",
       "         [0., 0., 0.],\n",
       "         [0., 0., 0.]],\n",
       "\n",
       "        [[0., 0., 0.],\n",
       "         [0., 0., 0.],\n",
       "         [0., 0., 0.]],\n",
       "\n",
       "        [[0., 0., 0.],\n",
       "         [0., 0., 0.],\n",
       "         [0., 0., 0.]]]])"
      ]
     },
     "execution_count": 102,
     "metadata": {},
     "output_type": "execute_result"
    }
   ],
   "source": [
    "D = np.zeros((N,N,M,M))\n",
    "def create_D_4D(D, N=3, M=3):\n",
    "    diag_N = np.arange(N)\n",
    "    diag_M = np.arange(M)\n",
    "    D[diag_N, diag_N][:, 1,1] = -4\n",
    "#     D[diag_N, diag_N, 1,1] = -4\n",
    "\n",
    "create_D_4D(D)\n",
    "# D.reshape(N*M,N*M,)\n",
    "D"
   ]
  },
  {
   "cell_type": "code",
   "execution_count": 289,
   "id": "f9760922",
   "metadata": {},
   "outputs": [
    {
     "name": "stdout",
     "output_type": "stream",
     "text": [
      "for + jit  1.678125\n"
     ]
    }
   ],
   "source": [
    "def laplas_simple(u, L, h=1):\n",
    "    K, J = u.shape\n",
    "    for k in range(K):\n",
    "        for j in range(J):\n",
    "            L[k,j] = (u[(k+1)%K,j]+u[(k-1)%K,j]-4*u[k,j]+u[k,(j+1)%J]+u[k,(j-1)%J])/h**2\n",
    "\n",
    "u = np.eye(9)\n",
    "L = np.zeros_like(u)\n",
    "laplas(u, L)\n",
    "L\n",
    "\n",
    "N, M = 10000,10000\n",
    "u = np.random.rand(N,M)\n",
    "L = np.zeros_like(u)\n",
    "print('for + jit ', benchmark(laplas, n=5, args=(u, L, 1)))"
   ]
  },
  {
   "cell_type": "code",
   "execution_count": 291,
   "id": "e7065df0",
   "metadata": {},
   "outputs": [
    {
     "data": {
      "text/plain": [
       "0.2859375"
      ]
     },
     "execution_count": 291,
     "metadata": {},
     "output_type": "execute_result"
    }
   ],
   "source": [
    "benchmark(lambda: u*4, n=10)"
   ]
  },
  {
   "cell_type": "code",
   "execution_count": 288,
   "id": "82e102b4",
   "metadata": {},
   "outputs": [
    {
     "name": "stdout",
     "output_type": "stream",
     "text": [
      "for + jit  1.778125\n"
     ]
    }
   ],
   "source": [
    "@nb.njit(parallel=True)\n",
    "def laplas(u, L, h=1):\n",
    "    K, J = u.shape\n",
    "    for k in nb.prange(K):\n",
    "        for j in range(J):\n",
    "            L[k,j] = (u[(k+1)%K,j]+u[(k-1)%K,j]-4*u[k,j]+u[k,(j+1)%J]+u[k,(j-1)%J])/h**2\n",
    "\n",
    "u = np.eye(9)\n",
    "L = np.zeros_like(u)\n",
    "laplas(u, L)\n",
    "L\n",
    "\n",
    "N, M = 10000,10000\n",
    "u = np.random.rand(N,M)\n",
    "L = np.zeros_like(u)\n",
    "print('for + jit ', benchmark(laplas, n=5, args=(u, L, 1)))"
   ]
  },
  {
   "cell_type": "code",
   "execution_count": 177,
   "id": "9bb318aa",
   "metadata": {},
   "outputs": [
    {
     "data": {
      "text/plain": [
       "array([[-4.,  2.,  0.,  0.,  0.,  0.,  0.,  0.,  2.],\n",
       "       [ 2., -4.,  2.,  0.,  0.,  0.,  0.,  0.,  0.],\n",
       "       [ 0.,  2., -4.,  2.,  0.,  0.,  0.,  0.,  0.],\n",
       "       [ 0.,  0.,  2., -4.,  2.,  0.,  0.,  0.,  0.],\n",
       "       [ 0.,  0.,  0.,  2., -4.,  2.,  0.,  0.,  0.],\n",
       "       [ 0.,  0.,  0.,  0.,  2., -4.,  2.,  0.,  0.],\n",
       "       [ 0.,  0.,  0.,  0.,  0.,  2., -4.,  2.,  0.],\n",
       "       [ 0.,  0.,  0.,  0.,  0.,  0.,  2., -4.,  2.],\n",
       "       [ 2.,  0.,  0.,  0.,  0.,  0.,  0.,  2., -4.]])"
      ]
     },
     "execution_count": 177,
     "metadata": {},
     "output_type": "execute_result"
    }
   ],
   "source": [
    "def laplas_2(u, L, h=1):\n",
    "    K, J = u.shape\n",
    "    ind_K = np.arange(K)\n",
    "    ind_J = np.arange(J)\n",
    "    \n",
    "    L[:,:] = (u[(ind_K+1) % K,:] + u[(ind_K-1) % K,:] -4*u[:,:] + u[:,(ind_J-1) % J] + u[:,(ind_J+1) % J])/h**2\n",
    "    \n",
    "\n",
    "u = np.eye(9)\n",
    "L = np.zeros_like(u)\n",
    "laplas(u, L)\n",
    "L"
   ]
  },
  {
   "cell_type": "code",
   "execution_count": 178,
   "id": "9dd543e1",
   "metadata": {},
   "outputs": [
    {
     "data": {
      "text/plain": [
       "array([[-4.,  2.,  0.,  0.,  0.,  0.,  0.,  0.,  2.],\n",
       "       [ 2., -4.,  2.,  0.,  0.,  0.,  0.,  0.,  0.],\n",
       "       [ 0.,  2., -4.,  2.,  0.,  0.,  0.,  0.,  0.],\n",
       "       [ 0.,  0.,  2., -4.,  2.,  0.,  0.,  0.,  0.],\n",
       "       [ 0.,  0.,  0.,  2., -4.,  2.,  0.,  0.,  0.],\n",
       "       [ 0.,  0.,  0.,  0.,  2., -4.,  2.,  0.,  0.],\n",
       "       [ 0.,  0.,  0.,  0.,  0.,  2., -4.,  2.,  0.],\n",
       "       [ 0.,  0.,  0.,  0.,  0.,  0.,  2., -4.,  2.],\n",
       "       [ 2.,  0.,  0.,  0.,  0.,  0.,  0.,  2., -4.]])"
      ]
     },
     "execution_count": 178,
     "metadata": {},
     "output_type": "execute_result"
    }
   ],
   "source": [
    "def laplas_3(u, L, h=1):\n",
    "    K, J = u.shape\n",
    "    ind_K = np.arange(K)\n",
    "    ind_J = np.arange(J)\n",
    "    \n",
    "    L[:,:] = (u.take((ind_K+1) % K, axis=0) + u.take((ind_K-1) % K, axis=0) -4* u[:,:] + u.take((ind_J-1) % J, axis=1) + u.take((ind_J+1) % J, axis=1))/h**2\n",
    "    \n",
    "\n",
    "u = np.eye(9)\n",
    "L = np.zeros_like(u)\n",
    "laplas(u, L)\n",
    "L"
   ]
  },
  {
   "cell_type": "code",
   "execution_count": 4,
   "id": "e3eda3f5",
   "metadata": {},
   "outputs": [
    {
     "name": "stdout",
     "output_type": "stream",
     "text": [
      "for + jit  0.3125\n"
     ]
    }
   ],
   "source": [
    "@nb.njit('void(f8[:,::1],f8[:,::1],f8)' )\n",
    "def laplas_no_bc(u, L, h):\n",
    "    K, J = u.shape\n",
    "    i = 1/h**2\n",
    "    for k in nb.prange(1, K-1):\n",
    "        for j in range(1, J-1):\n",
    "            L[k,j] = (u[(k+1),j]+u[(k-1),j]-4*u[k,j]+u[k,(j+1)]+u[k,(j-1)]) * i\n",
    "        \n",
    "            \n",
    "N, M = 10000,10000\n",
    "u = np.random.rand(N,M)\n",
    "L = np.zeros_like(u)\n",
    "print('for + jit ', benchmark(laplas_no_bc, n=5, args=(u, L, 1)))"
   ]
  },
  {
   "cell_type": "code",
   "execution_count": 5,
   "id": "ff2c6965",
   "metadata": {},
   "outputs": [
    {
     "name": "stdout",
     "output_type": "stream",
     "text": [
      "for + jit  0.809375\n"
     ]
    }
   ],
   "source": [
    "@nb.njit('void(f8[:,::1],f8[:,::1],f8)')\n",
    "def laplas_4(u, L, h):\n",
    "    K, J = u.shape\n",
    "    for k in nb.prange(1,K-1):\n",
    "        for j in range(1,J-1):\n",
    "#             L[k,j] = (u[(k+1)%K,j]+u[(k-1)%K,j]-4*u[k,j]+u[k,(j+1)%J]+u[k,(j-1)%J])/h**2\n",
    "            L[k,j] = (u[(k+1),j]+u[(k-1),j]-4*u[k,j]+u[k,(j+1)]+u[k,(j-1)])\n",
    "    \n",
    "            \n",
    "N, M = 10000,10000\n",
    "u = np.random.rand(N,M)\n",
    "L = np.zeros_like(u)\n",
    "print('for + jit ', benchmark(laplas_4, n=5, args=(u, L, 1)))"
   ]
  },
  {
   "cell_type": "code",
   "execution_count": 35,
   "id": "243de896",
   "metadata": {},
   "outputs": [
    {
     "name": "stdout",
     "output_type": "stream",
     "text": [
      "for + jit  1.571875\n"
     ]
    }
   ],
   "source": [
    "nb.set_num_threads(1)\n",
    "\n",
    "@nb.njit('void(f8[:,::1],f8[:,::1],f8)', nogil=True, parallel=True)\n",
    "def laplas_7(u, L, h):\n",
    "    K, J = u.shape\n",
    "    for k in nb.prange(1,K-1):\n",
    "        for j in range(1,J-1):\n",
    "#             L[k,j] = (u[(k+1)%K,j]+u[(k-1)%K,j]-4*u[k,j]+u[k,(j+1)%J]+u[k,(j-1)%J])/h**2\n",
    "            L[k,j] = (u[(k+1),j]+u[(k-1),j]-4*u[k,j]+u[k,(j+1)]+u[k,(j-1)])\n",
    "        L[k,0] = (u[(k+1),0]+u[(k-1),0]-4*u[k,0]+u[k,1]+u[k,J-1])\n",
    "        L[k,J-1] = (u[(k+1),J-1]+u[(k-1),J-1]-4*u[k,J-1]+u[k,0]+u[k,J-2])\n",
    "        \n",
    "    for j in range(1,J-1):\n",
    "        L[0,j] = (u[1,j]+u[K-1,j]-4*u[0,j]+u[0,(j+1)]+u[0,(j-1)])\n",
    "    L[0,0] = (u[1,0]+u[K-1,0]-4*u[0,0]+u[0,1]+u[0,J-1])\n",
    "    L[0,J-1] = (u[1,J-1]+u[(K-1),J-1]-4*u[0,J-1]+u[0,0]+u[0,J-2])\n",
    "    \n",
    "    for j in range(1,J-1):\n",
    "        L[K-1,j] = (u[0,j]+u[K-2,j]-4*u[K-1,j]+u[K-1,(j+1)]+u[K-1,(j-1)])\n",
    "    L[K-1,0] = (u[0,0]+u[K-2,0]-4*u[K-1,0]+u[K-1,1]+u[K-1,J-1])\n",
    "    L[K-1,J-1] = (u[0,J-1]+u[K-2,J-1]-4*u[K-1,J-1]+u[K-1,0]+u[K-1,J-2])\n",
    "    \n",
    "            \n",
    "N, M = 10000,10000\n",
    "u = np.random.rand(N,M)\n",
    "L = np.zeros_like(u)\n",
    "print('for + jit ', benchmark(laplas_7, n=5, args=(u, L, 1)))"
   ]
  },
  {
   "cell_type": "code",
   "execution_count": 282,
   "id": "6585c161",
   "metadata": {},
   "outputs": [
    {
     "name": "stdout",
     "output_type": "stream",
     "text": [
      "for + jit  1.571875\n"
     ]
    }
   ],
   "source": [
    "@nb.njit('void(f8[:,:],f8[:,:],f8)', parallel=True)\n",
    "def laplas_6(u, L, h):\n",
    "    K, J = u.shape\n",
    "    for k in nb.prange(K):\n",
    "        for j in range(J):\n",
    "            L[k,j] = (u[(k+1)%K,j]+u[(k-1)%K,j]-4*u[k,j]+u[k,(j+1)%J]+u[k,(j-1)%J])/h**2\n",
    "            \n",
    "N, M = 10000,10000\n",
    "u = np.random.rand(N,M)\n",
    "L = np.zeros_like(u)\n",
    "print('for + jit ', benchmark(laplas_6, n=5, args=(u, L, 1)))"
   ]
  },
  {
   "cell_type": "code",
   "execution_count": 281,
   "id": "e73a3206",
   "metadata": {},
   "outputs": [
    {
     "name": "stdout",
     "output_type": "stream",
     "text": [
      "for + jit  0.875\n"
     ]
    }
   ],
   "source": [
    "@nb.njit('void(f8[:,:],f8[:,:],f8)', nogil=True, )\n",
    "def laplas_7(u, L, h):\n",
    "    K, J = u.shape\n",
    "    for k in nb.prange(K):\n",
    "        for j in range(J):\n",
    "            L[k,j] = (u[(k+1)%K,j]+u[(k-1)%K,j]-4*u[k,j]+u[k,(j+1)%J]+u[k,(j-1)%J])/h**2\n",
    "            \n",
    "N, M = 10000,10000\n",
    "u = np.random.rand(N,M)\n",
    "L = np.zeros_like(u)\n",
    "print('for + jit ', benchmark(laplas_7, n=5, args=(u, L, 1)))"
   ]
  },
  {
   "cell_type": "code",
   "execution_count": 226,
   "id": "e8e136c9",
   "metadata": {},
   "outputs": [
    {
     "name": "stdout",
     "output_type": "stream",
     "text": [
      "for + jit  15.625\n"
     ]
    }
   ],
   "source": [
    "print('for + jit ', benchmark(laplas_4, n=20e3, kwargs={'u': u, 'L':L, 'h':1})*10e6)"
   ]
  },
  {
   "cell_type": "code",
   "execution_count": 216,
   "id": "47e3e90c",
   "metadata": {},
   "outputs": [
    {
     "name": "stdout",
     "output_type": "stream",
     "text": [
      "for  2023.4375\n",
      "for + jit  15.625\n",
      "ind  226.56249999999997\n",
      "take  179.6875\n"
     ]
    }
   ],
   "source": [
    "N, M = 1000,10\n",
    "u = np.random.rand(N,M)\n",
    "L = np.zeros_like(u)\n",
    "\n",
    "print('for ', benchmark(laplas, n=20e3, kwargs={'u': u, 'L':L})*10e6)\n",
    "\n",
    "print('ind ', benchmark(laplas_2, n=20e3, kwargs={'u': u, 'L':L})*10e6)\n",
    "print('take ', benchmark(laplas_3, n=20e3, kwargs={'u': u, 'L':L})*10e6)\n"
   ]
  },
  {
   "cell_type": "code",
   "execution_count": 10,
   "id": "289b4a6e",
   "metadata": {},
   "outputs": [
    {
     "data": {
      "text/plain": [
       "<matplotlib.colorbar.Colorbar at 0x22989b9a2b0>"
      ]
     },
     "execution_count": 10,
     "metadata": {},
     "output_type": "execute_result"
    },
    {
     "data": {
      "image/png": "[encoded data removed]",
      "text/plain": [
       "<Figure size 432x288 with 2 Axes>"
      ]
     },
     "metadata": {
      "needs_background": "light"
     },
     "output_type": "display_data"
    },
    {
     "data": {
      "image/png": "[encoded data removed]",
      "text/plain": [
       "<Figure size 432x288 with 2 Axes>"
      ]
     },
     "metadata": {
      "needs_background": "light"
     },
     "output_type": "display_data"
    }
   ],
   "source": [
    "x, y = np.meshgrid(np.linspace(0, 2*np.pi, 100, endpoint=False), np.linspace(0, 2*np.pi, 100, endpoint=False))\n",
    "u = np.sin(x)*np.sin(y)\n",
    "plt.pcolor(u)\n",
    "plt.colorbar()\n",
    "plt.figure()\n",
    "\n",
    "\n",
    "L = np.zeros_like(u)\n",
    "laplas_7(u, L, h = 3*np.pi/100)\n",
    "plt.pcolor(L)\n",
    "plt.colorbar()"
   ]
  },
  {
   "cell_type": "code",
   "execution_count": 197,
   "id": "6b25abee",
   "metadata": {},
   "outputs": [
    {
     "name": "stdout",
     "output_type": "stream",
     "text": [
      "[[ 0  1  2  3]\n",
      " [ 4  5  6  7]\n",
      " [ 8  9 10 11]\n",
      " [12 13 14 15]]\n"
     ]
    },
    {
     "data": {
      "text/plain": [
       "array([[ 0,  1,  2,  3],\n",
       "       [ 4,  5,  6,  7],\n",
       "       [ 8,  9, 10, 11],\n",
       "       [12, 13, 14, 15]])"
      ]
     },
     "execution_count": 197,
     "metadata": {},
     "output_type": "execute_result"
    }
   ],
   "source": [
    "a = np.arange(16)\n",
    "a = a.reshape(4,4)\n",
    "print(a)\n",
    "a[np.arange(4),:]"
   ]
  },
  {
   "cell_type": "code",
   "execution_count": null,
   "id": "96ade59c",
   "metadata": {},
   "outputs": [],
   "source": [
    "nb.set_num_threads(2)\n",
    "\n",
    "@nb.njit('void(f8[:,::1],f8[:,::1],f8)', nogil=True, parallel=True)\n",
    "def laplas_parallel(u, L, h):\n",
    "    K, J = u.shape\n",
    "    for n in nb.prange(0,K-2):\n",
    "        k = (2*n)%(K-1)+1\n",
    "        for j in range(1,J-1):\n",
    "            L[k,j] = (u[(k+1),j]+u[(k-1),j]-4*u[k,j]+u[k,(j+1)]+u[k,(j-1)])\n",
    "\n",
    "\n",
    "    \n",
    "            \n",
    "N, M = 10000,10000\n",
    "u = np.random.rand(N,M)\n",
    "L = np.zeros_like(u)\n",
    "print('for + jit ', benchmark(laplas_parallel, n=5, args=(u, L, 1)))"
   ]
  }
 ],
 "metadata": {
  "kernelspec": {
   "display_name": "Python 3 (ipykernel)",
   "language": "python",
   "name": "python3"
  },
  "language_info": {
   "codemirror_mode": {
    "name": "ipython",
    "version": 3
   },
   "file_extension": ".py",
   "mimetype": "text/x-python",
   "name": "python",
   "nbconvert_exporter": "python",
   "pygments_lexer": "ipython3",
   "version": "3.9.6"
  }
 },
 "nbformat": 4,
 "nbformat_minor": 5
}
