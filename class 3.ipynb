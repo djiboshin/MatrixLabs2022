{
 "cells": [
  {
   "cell_type": "code",
   "execution_count": 1,
   "id": "minute-choir",
   "metadata": {},
   "outputs": [],
   "source": [
    "import numpy as np\n",
    "import numba as nb\n",
    "import matplotlib.pyplot as plt\n",
    "\n",
    "import time"
   ]
  },
  {
   "cell_type": "markdown",
   "id": "81803be6",
   "metadata": {},
   "source": [
    "# Бенчмарк"
   ]
  },
  {
   "cell_type": "code",
   "execution_count": 2,
   "id": "fifteen-miniature",
   "metadata": {},
   "outputs": [],
   "source": [
    "def benchmark(f, n: int or float = 10e5, args: tuple = None, kwargs: dict = None) -> np.array:\n",
    "    if args is None:\n",
    "        args = ()\n",
    "    if kwargs is None:\n",
    "        kwargs = {}\n",
    "    \n",
    "    start = time.process_time()\n",
    "    for _ in range(int(n)):\n",
    "        f(*args, **kwargs)\n",
    "    end = time.process_time()\n",
    "    return (end - start)/n"
   ]
  },
  {
   "cell_type": "markdown",
   "id": "7f8d00b6",
   "metadata": {},
   "source": [
    "# Матрица блоками"
   ]
  },
  {
   "cell_type": "code",
   "execution_count": 29,
   "id": "91fc9d55",
   "metadata": {},
   "outputs": [
    {
     "data": {
      "text/plain": [
       "array([[-4,  1,  0,  1,  1,  0,  0,  0,  0,  0,  0,  0,  1,  0,  0,  0],\n",
       "       [ 1, -4,  1,  0,  0,  1,  0,  0,  0,  0,  0,  0,  0,  1,  0,  0],\n",
       "       [ 0,  1, -4,  1,  0,  0,  1,  0,  0,  0,  0,  0,  0,  0,  1,  0],\n",
       "       [ 1,  0,  1, -4,  0,  0,  0,  1,  0,  0,  0,  0,  0,  0,  0,  1],\n",
       "       [ 1,  0,  0,  0, -4,  1,  0,  1,  1,  0,  0,  0,  0,  0,  0,  0],\n",
       "       [ 0,  1,  0,  0,  1, -4,  1,  0,  0,  1,  0,  0,  0,  0,  0,  0],\n",
       "       [ 0,  0,  1,  0,  0,  1, -4,  1,  0,  0,  1,  0,  0,  0,  0,  0],\n",
       "       [ 0,  0,  0,  1,  1,  0,  1, -4,  0,  0,  0,  1,  0,  0,  0,  0],\n",
       "       [ 0,  0,  0,  0,  1,  0,  0,  0, -4,  1,  0,  1,  1,  0,  0,  0],\n",
       "       [ 0,  0,  0,  0,  0,  1,  0,  0,  1, -4,  1,  0,  0,  1,  0,  0],\n",
       "       [ 0,  0,  0,  0,  0,  0,  1,  0,  0,  1, -4,  1,  0,  0,  1,  0],\n",
       "       [ 0,  0,  0,  0,  0,  0,  0,  1,  1,  0,  1, -4,  0,  0,  0,  1],\n",
       "       [ 1,  0,  0,  0,  0,  0,  0,  0,  1,  0,  0,  0, -4,  1,  0,  1],\n",
       "       [ 0,  1,  0,  0,  0,  0,  0,  0,  0,  1,  0,  0,  1, -4,  1,  0],\n",
       "       [ 0,  0,  1,  0,  0,  0,  0,  0,  0,  0,  1,  0,  0,  1, -4,  1],\n",
       "       [ 0,  0,  0,  1,  0,  0,  0,  0,  0,  0,  0,  1,  1,  0,  1, -4]])"
      ]
     },
     "execution_count": 29,
     "metadata": {},
     "output_type": "execute_result"
    }
   ],
   "source": [
    "def Laplace(N = 3,M = 4):\n",
    "    L = np.zeros((N,M,N,M), dtype=int)\n",
    "#     a, b, c, d, e = 'a', 'b', 'c', 'd', 'e'\n",
    "    a, b, c, d, e = 1, 1, 1, 1, -4\n",
    "    \n",
    "    indNdiag = np.arange(N)\n",
    "    indNup = np.roll(indNdiag, 1)\n",
    "    indNdown = np.roll(indNdiag, -1)\n",
    "    \n",
    "    indMdiag = np.arange(M)\n",
    "    indMup = np.roll(indMdiag, 1)\n",
    "    indMdown = np.roll(indMdiag, -1)\n",
    "    \n",
    "    for n in range(N):\n",
    "        L[n,indMdiag,indNdiag[n],indMdiag] = e\n",
    "        L[n,indMup,indNdiag[n],indMdiag] = c\n",
    "        L[n,indMdown,indNdiag[n],indMdiag] = d\n",
    "\n",
    "        L[n,indMdiag,indNup[n],indMdiag] = b\n",
    "\n",
    "        L[n,indMdiag,indNdown[n],indMdiag] = a\n",
    "\n",
    "    return L.reshape(N*M, N*M)\n",
    "\n",
    "\n",
    "Л = Laplace(4,4)\n",
    "# plt.imshow(Л, cmap='jet', vmin=-4, vmax=5)\n",
    "# plt.colorbar()\n",
    "Л"
   ]
  },
  {
   "cell_type": "markdown",
   "id": "ecc926f0",
   "metadata": {},
   "source": [
    "# Матрица формулой"
   ]
  },
  {
   "cell_type": "markdown",
   "id": "ca02682f",
   "metadata": {},
   "source": [
    "$$(\\Delta)_{kj} = \\frac{au_{k-1,j}+bu_{k+1,j}+eu_{k,j}+cu_{k,j+1}+du_{k,j-1}}{\\delta^2}$$"
   ]
  },
  {
   "cell_type": "code",
   "execution_count": 30,
   "id": "f9760922",
   "metadata": {},
   "outputs": [
    {
     "name": "stdout",
     "output_type": "stream",
     "text": [
      "for 203.125\n"
     ]
    }
   ],
   "source": [
    "def laplas_simple(u, L, h=1):\n",
    "    K, J = u.shape\n",
    "    for k in range(K):\n",
    "        for j in range(J):\n",
    "            L[k,j] = (u[(k+1)%K,j]+u[(k-1)%K,j]-4*u[k,j]+u[k,(j+1)%J]+u[k,(j-1)%J])/h**2\n",
    "\n",
    "u = np.eye(9)\n",
    "L = np.zeros_like(u)\n",
    "laplas(u, L)\n",
    "L\n",
    "\n",
    "N, M = 1000,1000\n",
    "u = np.random.rand(N,M)\n",
    "L = np.zeros_like(u)\n",
    "print('for', benchmark(laplas_simple, n=1, args=(u, L, 1))* 100)"
   ]
  },
  {
   "cell_type": "code",
   "execution_count": 31,
   "id": "82e102b4",
   "metadata": {},
   "outputs": [
    {
     "name": "stdout",
     "output_type": "stream",
     "text": [
      "for + jit parallel 1.66875\n"
     ]
    }
   ],
   "source": [
    "@nb.njit(parallel=True)\n",
    "def laplas(u, L, h=1):\n",
    "    K, J = u.shape\n",
    "    for k in nb.prange(K):\n",
    "        for j in range(J):\n",
    "            L[k,j] = (u[(k+1)%K,j]+u[(k-1)%K,j]-4*u[k,j]+u[k,(j+1)%J]+u[k,(j-1)%J])/h**2\n",
    "\n",
    "u = np.eye(9)\n",
    "L = np.zeros_like(u)\n",
    "laplas(u, L)\n",
    "L\n",
    "\n",
    "N, M = 10000,10000\n",
    "u = np.random.rand(N,M)\n",
    "L = np.zeros_like(u)\n",
    "print('for + jit parallel', benchmark(laplas, n=5, args=(u, L, 1)))"
   ]
  },
  {
   "cell_type": "code",
   "execution_count": 32,
   "id": "9bb318aa",
   "metadata": {},
   "outputs": [
    {
     "name": "stdout",
     "output_type": "stream",
     "text": [
      "ind  7.34375\n"
     ]
    }
   ],
   "source": [
    "def laplas_2(u, L, h=1):\n",
    "    K, J = u.shape\n",
    "    ind_K = np.arange(K)\n",
    "    ind_J = np.arange(J)\n",
    "    \n",
    "    L[:,:] = (u[(ind_K+1) % K,:] + u[(ind_K-1) % K,:] -4*u[:,:] + u[:,(ind_J-1) % J] + u[:,(ind_J+1) % J])/h**2\n",
    "    \n",
    "\n",
    "N, M = 10000,10000\n",
    "u = np.random.rand(N,M)\n",
    "L = np.zeros_like(u)\n",
    "print('ind ', benchmark(laplas_2, n=1, kwargs={'u': u, 'L':L}))"
   ]
  },
  {
   "cell_type": "code",
   "execution_count": 33,
   "id": "9dd543e1",
   "metadata": {},
   "outputs": [
    {
     "name": "stdout",
     "output_type": "stream",
     "text": [
      "take  34687500.0\n"
     ]
    }
   ],
   "source": [
    "def laplas_3(u, L, h=1):\n",
    "    K, J = u.shape\n",
    "    ind_K = np.arange(K)\n",
    "    ind_J = np.arange(J)\n",
    "    \n",
    "    L[:,:] = (u.take((ind_K+1) % K, axis=0) + u.take((ind_K-1) % K, axis=0) -4* u[:,:] + u.take((ind_J-1) % J, axis=1) + u.take((ind_J+1) % J, axis=1))/h**2\n",
    "    \n",
    "\n",
    "N, M = 10000,10000\n",
    "u = np.random.rand(N,M)\n",
    "L = np.zeros_like(u)\n",
    "print('take ', benchmark(laplas_3, n=5, kwargs={'u': u, 'L':L})*10e6)"
   ]
  },
  {
   "cell_type": "code",
   "execution_count": 34,
   "id": "e3eda3f5",
   "metadata": {},
   "outputs": [
    {
     "name": "stdout",
     "output_type": "stream",
     "text": [
      "for + jit  0.30625\n"
     ]
    }
   ],
   "source": [
    "@nb.njit('void(f8[:,::1],f8[:,::1],f8)' )\n",
    "def laplas_no_bc(u, L, h):\n",
    "    K, J = u.shape\n",
    "    i = 1/h**2\n",
    "    for k in nb.prange(1, K-1):\n",
    "        for j in range(1, J-1):\n",
    "            L[k,j] = (u[(k+1),j]+u[(k-1),j]-4*u[k,j]+u[k,(j+1)]+u[k,(j-1)]) * i\n",
    "        \n",
    "            \n",
    "N, M = 10000,10000\n",
    "u = np.random.rand(N,M)\n",
    "L = np.zeros_like(u)\n",
    "print('for + jit ', benchmark(laplas_no_bc, n=5, args=(u, L, 1)))"
   ]
  },
  {
   "cell_type": "code",
   "execution_count": 35,
   "id": "ff2c6965",
   "metadata": {},
   "outputs": [
    {
     "name": "stdout",
     "output_type": "stream",
     "text": [
      "for + jit void([]) 0.26875\n"
     ]
    }
   ],
   "source": [
    "@nb.njit('void(f8[:,::1],f8[:,::1],f8)')\n",
    "def laplas_4(u, L, h):\n",
    "    K, J = u.shape\n",
    "    for k in nb.prange(1,K-1):\n",
    "        for j in range(1,J-1):\n",
    "#             L[k,j] = (u[(k+1)%K,j]+u[(k-1)%K,j]-4*u[k,j]+u[k,(j+1)%J]+u[k,(j-1)%J])/h**2\n",
    "            L[k,j] = (u[(k+1),j]+u[(k-1),j]-4*u[k,j]+u[k,(j+1)]+u[k,(j-1)])\n",
    "    \n",
    "            \n",
    "N, M = 10000,10000\n",
    "u = np.random.rand(N,M)\n",
    "L = np.zeros_like(u)\n",
    "print('for + jit void([])', benchmark(laplas_4, n=5, args=(u, L, 1)))"
   ]
  },
  {
   "cell_type": "code",
   "execution_count": 36,
   "id": "243de896",
   "metadata": {},
   "outputs": [
    {
     "name": "stdout",
     "output_type": "stream",
     "text": [
      "best, hard-way 0.28125\n"
     ]
    }
   ],
   "source": [
    "nb.set_num_threads(1)\n",
    "\n",
    "@nb.njit('void(f8[:,::1],f8[:,::1],f8)', nogil=True, parallel=True)\n",
    "def laplas_7(u, L, h):\n",
    "    K, J = u.shape\n",
    "    for k in nb.prange(1,K-1):\n",
    "        for j in range(1,J-1):\n",
    "#             L[k,j] = (u[(k+1)%K,j]+u[(k-1)%K,j]-4*u[k,j]+u[k,(j+1)%J]+u[k,(j-1)%J])/h**2\n",
    "            L[k,j] = (u[(k+1),j]+u[(k-1),j]-4*u[k,j]+u[k,(j+1)]+u[k,(j-1)])\n",
    "        L[k,0] = (u[(k+1),0]+u[(k-1),0]-4*u[k,0]+u[k,1]+u[k,J-1])\n",
    "        L[k,J-1] = (u[(k+1),J-1]+u[(k-1),J-1]-4*u[k,J-1]+u[k,0]+u[k,J-2])\n",
    "        \n",
    "    for j in range(1,J-1):\n",
    "        L[0,j] = (u[1,j]+u[K-1,j]-4*u[0,j]+u[0,(j+1)]+u[0,(j-1)])\n",
    "    L[0,0] = (u[1,0]+u[K-1,0]-4*u[0,0]+u[0,1]+u[0,J-1])\n",
    "    L[0,J-1] = (u[1,J-1]+u[(K-1),J-1]-4*u[0,J-1]+u[0,0]+u[0,J-2])\n",
    "    \n",
    "    for j in range(1,J-1):\n",
    "        L[K-1,j] = (u[0,j]+u[K-2,j]-4*u[K-1,j]+u[K-1,(j+1)]+u[K-1,(j-1)])\n",
    "    L[K-1,0] = (u[0,0]+u[K-2,0]-4*u[K-1,0]+u[K-1,1]+u[K-1,J-1])\n",
    "    L[K-1,J-1] = (u[0,J-1]+u[K-2,J-1]-4*u[K-1,J-1]+u[K-1,0]+u[K-1,J-2])\n",
    "    \n",
    "            \n",
    "N, M = 10000,10000\n",
    "u = np.random.rand(N,M)\n",
    "L = np.zeros_like(u)\n",
    "print('best, hard-way', benchmark(laplas_7, n=5, args=(u, L, 1)))"
   ]
  },
  {
   "cell_type": "code",
   "execution_count": 37,
   "id": "6585c161",
   "metadata": {},
   "outputs": [
    {
     "name": "stdout",
     "output_type": "stream",
     "text": [
      "for + jit parallel  1.4625\n"
     ]
    }
   ],
   "source": [
    "@nb.njit('void(f8[:,:],f8[:,:],f8)', parallel=True)\n",
    "def laplas_6(u, L, h):\n",
    "    K, J = u.shape\n",
    "    for k in nb.prange(K):\n",
    "        for j in range(J):\n",
    "            L[k,j] = (u[(k+1)%K,j]+u[(k-1)%K,j]-4*u[k,j]+u[k,(j+1)%J]+u[k,(j-1)%J])/h**2\n",
    "            \n",
    "N, M = 10000,10000\n",
    "u = np.random.rand(N,M)\n",
    "L = np.zeros_like(u)\n",
    "print('for + jit parallel ', benchmark(laplas_6, n=5, args=(u, L, 1)))"
   ]
  },
  {
   "cell_type": "code",
   "execution_count": 38,
   "id": "e73a3206",
   "metadata": {},
   "outputs": [
    {
     "name": "stdout",
     "output_type": "stream",
     "text": [
      "for + jit nogil  0.83125\n"
     ]
    }
   ],
   "source": [
    "@nb.njit('void(f8[:,:],f8[:,:],f8)', nogil=True, )\n",
    "def laplas_7(u, L, h):\n",
    "    K, J = u.shape\n",
    "    for k in nb.prange(K):\n",
    "        for j in range(J):\n",
    "            L[k,j] = (u[(k+1)%K,j]+u[(k-1)%K,j]-4*u[k,j]+u[k,(j+1)%J]+u[k,(j-1)%J])/h**2\n",
    "            \n",
    "N, M = 10000,10000\n",
    "u = np.random.rand(N,M)\n",
    "L = np.zeros_like(u)\n",
    "print('for + jit nogil ', benchmark(laplas_7, n=5, args=(u, L, 1)))"
   ]
  },
  {
   "cell_type": "markdown",
   "id": "792a5088",
   "metadata": {},
   "source": [
    "# Применение"
   ]
  },
  {
   "cell_type": "code",
   "execution_count": 9,
   "id": "289b4a6e",
   "metadata": {},
   "outputs": [
    {
     "data": {
      "text/plain": [
       "<matplotlib.colorbar.Colorbar at 0x203ae0b6fa0>"
      ]
     },
     "execution_count": 9,
     "metadata": {},
     "output_type": "execute_result"
    },
    {
     "data": {
      "image/png": "[encoded data removed]",
      "text/plain": [
       "<Figure size 432x288 with 2 Axes>"
      ]
     },
     "metadata": {
      "needs_background": "light"
     },
     "output_type": "display_data"
    },
    {
     "data": {
      "image/png": "[encoded data removed]",
      "text/plain": [
       "<Figure size 432x288 with 2 Axes>"
      ]
     },
     "metadata": {
      "needs_background": "light"
     },
     "output_type": "display_data"
    }
   ],
   "source": [
    "x, y = np.meshgrid(np.linspace(0, 2*np.pi, 100, endpoint=False), np.linspace(0, 2*np.pi, 100, endpoint=False))\n",
    "u = np.sin(x)*np.sin(y)\n",
    "plt.pcolor(u)\n",
    "plt.colorbar()\n",
    "plt.figure()\n",
    "\n",
    "\n",
    "L = np.zeros_like(u)\n",
    "laplas_7(u, L, h = 3*np.pi/100)\n",
    "plt.pcolor(L)\n",
    "plt.colorbar()"
   ]
  },
  {
   "cell_type": "code",
   "execution_count": 197,
   "id": "6b25abee",
   "metadata": {},
   "outputs": [
    {
     "name": "stdout",
     "output_type": "stream",
     "text": [
      "[[ 0  1  2  3]\n",
      " [ 4  5  6  7]\n",
      " [ 8  9 10 11]\n",
      " [12 13 14 15]]\n"
     ]
    },
    {
     "data": {
      "text/plain": [
       "array([[ 0,  1,  2,  3],\n",
       "       [ 4,  5,  6,  7],\n",
       "       [ 8,  9, 10, 11],\n",
       "       [12, 13, 14, 15]])"
      ]
     },
     "execution_count": 197,
     "metadata": {},
     "output_type": "execute_result"
    }
   ],
   "source": [
    "a = np.arange(16)\n",
    "a = a.reshape(4,4)\n",
    "print(a)\n",
    "a[np.arange(4),:]"
   ]
  }
 ],
 "metadata": {
  "kernelspec": {
   "display_name": "Python 3 (ipykernel)",
   "language": "python",
   "name": "python3"
  },
  "language_info": {
   "codemirror_mode": {
    "name": "ipython",
    "version": 3
   },
   "file_extension": ".py",
   "mimetype": "text/x-python",
   "name": "python",
   "nbconvert_exporter": "python",
   "pygments_lexer": "ipython3",
   "version": "3.9.6"
  }
 },
 "nbformat": 4,
 "nbformat_minor": 5
}
