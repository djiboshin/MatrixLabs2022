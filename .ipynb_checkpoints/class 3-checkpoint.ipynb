{
 "cells": [
  {
   "cell_type": "code",
   "execution_count": 1,
   "id": "minute-choir",
   "metadata": {},
   "outputs": [],
   "source": [
    "import numpy as np\n",
    "import numba as nb\n",
    "import matplotlib.pyplot as plt\n",
    "import time"
   ]
  },
  {
   "cell_type": "code",
   "execution_count": 2,
   "id": "fifteen-miniature",
   "metadata": {},
   "outputs": [],
   "source": [
    "def benchmark(f, n: int or float = 10e5, args: tuple = None, kwargs: dict = None) -> np.array:\n",
    "    if args is None:\n",
    "        args = ()\n",
    "    if kwargs is None:\n",
    "        kwargs = {}\n",
    "    \n",
    "    start = time.process_time()\n",
    "    for _ in range(int(n)):\n",
    "        f(*args, **kwargs)\n",
    "    end = time.process_time()\n",
    "    return (end - start)/n"
   ]
  },
  {
   "cell_type": "code",
   "execution_count": 3,
   "id": "polish-guidance",
   "metadata": {},
   "outputs": [],
   "source": [
    "def test_matmul(f):\n",
    "    A = np.random.rand(10,2)\n",
    "    B = np.random.rand(2,5)\n",
    "    C = np.zeros((A.shape[0], B.shape[1]))\n",
    "    f(A, B, C)\n",
    "    return np.max(np.abs(np.dot(A, B) - C))\n",
    "\n",
    "def benchmark_matmul(f, Ns, n):\n",
    "    times = []\n",
    "    for N in Ns:\n",
    "        A = np.random.rand(N,N)\n",
    "        B = np.random.rand(N,N)\n",
    "        C = np.zeros((N, N))\n",
    "        times.append(benchmark(f, n, args=(A, B, C)))\n",
    "    return times"
   ]
  },
  {
   "cell_type": "code",
   "execution_count": 39,
   "id": "excessive-stomach",
   "metadata": {},
   "outputs": [],
   "source": [
    "def laplas_1(U, D, h=1):\n",
    "    K, J = U.shape\n",
    "    \n",
    "    for k in range(K):\n",
    "        for j in range(J):\n",
    "            D[k,j] = (U[(k-1) % K,j%J] + U[(k+1) % K,j % J] - 4*U[k%K,j%J] + U[k%K,(j+1)%J]+U[k%K,(j-1)%J])/h"
   ]
  },
  {
   "cell_type": "code",
   "execution_count": 19,
   "id": "saving-infrastructure",
   "metadata": {},
   "outputs": [
    {
     "data": {
      "text/plain": [
       "array([[0.8262718 , 0.29658604],\n",
       "       [0.70881172, 0.79755754]])"
      ]
     },
     "execution_count": 19,
     "metadata": {},
     "output_type": "execute_result"
    }
   ],
   "source": [
    "A = np.random.rand(2,2)\n",
    "ind = np.arange(2)\n",
    "A"
   ]
  },
  {
   "cell_type": "code",
   "execution_count": 20,
   "id": "final-duration",
   "metadata": {},
   "outputs": [
    {
     "data": {
      "text/plain": [
       "array([0.29658604, 0.79755754])"
      ]
     },
     "execution_count": 20,
     "metadata": {},
     "output_type": "execute_result"
    }
   ],
   "source": [
    "A[ind, 1]"
   ]
  },
  {
   "cell_type": "code",
   "execution_count": 21,
   "id": "postal-pavilion",
   "metadata": {},
   "outputs": [
    {
     "data": {
      "text/plain": [
       "array([0.8262718 , 0.79755754])"
      ]
     },
     "execution_count": 21,
     "metadata": {},
     "output_type": "execute_result"
    }
   ],
   "source": [
    "A[ind, ind]"
   ]
  },
  {
   "cell_type": "code",
   "execution_count": 23,
   "id": "communist-string",
   "metadata": {},
   "outputs": [
    {
     "data": {
      "text/plain": [
       "array([[0.8262718 , 0.29658604],\n",
       "       [0.70881172, 0.79755754]])"
      ]
     },
     "execution_count": 23,
     "metadata": {},
     "output_type": "execute_result"
    }
   ],
   "source": [
    "A[ind]"
   ]
  },
  {
   "cell_type": "code",
   "execution_count": 29,
   "id": "powered-terminology",
   "metadata": {},
   "outputs": [
    {
     "data": {
      "text/plain": [
       "1"
      ]
     },
     "execution_count": 29,
     "metadata": {},
     "output_type": "execute_result"
    }
   ],
   "source": [
    "(11) % 10"
   ]
  },
  {
   "cell_type": "code",
   "execution_count": 46,
   "id": "victorian-carpet",
   "metadata": {
    "scrolled": true
   },
   "outputs": [
    {
     "name": "stdout",
     "output_type": "stream",
     "text": [
      "(3, 3)\n"
     ]
    }
   ],
   "source": [
    "U = np.eye(3)\n",
    "D = np.zeros((3,3))\n",
    "laplas_1(U,D)"
   ]
  },
  {
   "cell_type": "code",
   "execution_count": 47,
   "id": "expensive-vessel",
   "metadata": {},
   "outputs": [
    {
     "data": {
      "text/plain": [
       "array([[-4.,  2.,  2.],\n",
       "       [ 2., -4.,  2.],\n",
       "       [ 2.,  2., -4.]])"
      ]
     },
     "execution_count": 47,
     "metadata": {},
     "output_type": "execute_result"
    }
   ],
   "source": [
    "D"
   ]
  },
  {
   "cell_type": "code",
   "execution_count": 108,
   "id": "closing-honey",
   "metadata": {},
   "outputs": [
    {
     "data": {
      "text/plain": [
       "array([[-4.,  1.,  1.,  1.,  0.,  0.,  1.,  0.,  0.],\n",
       "       [ 1., -4.,  1.,  0.,  1.,  0.,  0.,  1.,  0.],\n",
       "       [ 1.,  1., -4.,  0.,  0.,  1.,  0.,  0.,  1.],\n",
       "       [ 1.,  0.,  0., -4.,  1.,  1.,  1.,  0.,  0.],\n",
       "       [ 0.,  1.,  0.,  1., -4.,  1.,  0.,  1.,  0.],\n",
       "       [ 0.,  0.,  1.,  1.,  1., -4.,  0.,  0.,  1.],\n",
       "       [ 1.,  0.,  0.,  1.,  0.,  0., -4.,  1.,  1.],\n",
       "       [ 0.,  1.,  0.,  0.,  1.,  0.,  1., -4.,  1.],\n",
       "       [ 0.,  0.,  1.,  0.,  0.,  1.,  1.,  1., -4.]])"
      ]
     },
     "execution_count": 108,
     "metadata": {},
     "output_type": "execute_result"
    }
   ],
   "source": [
    "def create_D(D, N=3, M=3):\n",
    "    pattern_1 = np.zeros((M,M))\n",
    "    pattern_1[0,0] = -4\n",
    "    pattern_1[0,1] = 1\n",
    "    pattern_1[0,-1] = 1\n",
    "    for n in range(M-1):\n",
    "        pattern_1[n+1] = np.roll(pattern_1[0],n+1)\n",
    "\n",
    "    pattern_2 = np.eye(M,M)\n",
    "    pattern_2\n",
    "    \n",
    "    for n in range(N):\n",
    "        D[M*n:M*(n+1),M*n:M*(n+1)] = pattern_1\n",
    "        for m in range(M):\n",
    "            D[M*n+m, (M*(n+1)+m) % (M*N)] = 1\n",
    "            D[M*n+m, (M*(n+2)+m) % (M*N)] = 1\n",
    "\n",
    "N, M = 3, 3\n",
    "D = np.zeros((N*M,N*M))\n",
    "create_D(D,N,M)\n",
    "D"
   ]
  },
  {
   "cell_type": "code",
   "execution_count": 170,
   "id": "completed-controversy",
   "metadata": {},
   "outputs": [
    {
     "data": {
      "text/plain": [
       "array([[-4.,  1.,  0.,  0.,  0.,  0.,  0.,  0.,  0.],\n",
       "       [ 1., -4.,  1.,  0.,  0.,  0.,  0.,  0.,  0.],\n",
       "       [ 0.,  1., -4.,  1.,  0.,  0.,  0.,  0.,  0.],\n",
       "       [ 0.,  0.,  1., -4.,  1.,  0.,  0.,  0.,  0.],\n",
       "       [ 0.,  0.,  0.,  1., -4.,  1.,  0.,  0.,  0.],\n",
       "       [ 0.,  0.,  0.,  0.,  1., -4.,  1.,  0.,  0.],\n",
       "       [ 0.,  0.,  0.,  0.,  0.,  1., -4.,  1.,  0.],\n",
       "       [ 0.,  0.,  0.,  0.,  0.,  0.,  1., -4.,  1.],\n",
       "       [ 0.,  0.,  0.,  0.,  0.,  0.,  0.,  1., -4.]])"
      ]
     },
     "execution_count": 170,
     "metadata": {},
     "output_type": "execute_result"
    }
   ],
   "source": [
    "def create_D_slice(D, N=3, M=3):\n",
    "    D.reshape((N,M,N,M))ca\n",
    "    diag_ind = np.arange(N*M)\n",
    "#     up_diag = diag_ind[]\n",
    "    D[diag_ind, diag_ind] = -4\n",
    "    D[diag_ind[:-1], diag_ind[1:]] = 1\n",
    "    D[diag_ind[1:], diag_ind[:-1]] = 1\n",
    "#     for i in range(N):\n",
    "        \n",
    "#     D[diag_ind, M:M*N:M] =1\n",
    "    \n",
    "N, M = 3, 3\n",
    "D = np.zeros((N*M,N*M))\n",
    "create_D_slice(D,N,M)\n",
    "D"
   ]
  },
  {
   "cell_type": "code",
   "execution_count": 141,
   "id": "surrounded-party",
   "metadata": {},
   "outputs": [
    {
     "data": {
      "text/plain": [
       "0.00010625"
      ]
     },
     "execution_count": 141,
     "metadata": {},
     "output_type": "execute_result"
    }
   ],
   "source": [
    "N, M = 10,10\n",
    "D = np.zeros((N*M,N*M))\n",
    "benchmark(create_D, n=10e3, kwargs={'D': D, 'N':N,'M':M})"
   ]
  },
  {
   "cell_type": "code",
   "execution_count": null,
   "id": "failing-dividend",
   "metadata": {},
   "outputs": [],
   "source": [
    "D = np.zeros(N,M,N,M)\n",
    "def create_D_4D(D, N=3, M=3):\n",
    "    for n in range(N):\n",
    "        for m in range(M)\n",
    "        D[n,m,]\n",
    "    \n",
    "D.reshape(N*M,N*M)"
   ]
  },
  {
   "cell_type": "code",
   "execution_count": 147,
   "id": "pharmaceutical-irish",
   "metadata": {},
   "outputs": [
    {
     "data": {
      "text/plain": [
       "array([0, 2, 4, 6, 8])"
      ]
     },
     "execution_count": 147,
     "metadata": {},
     "output_type": "execute_result"
    }
   ],
   "source": [
    "A = np.arange(10)\n",
    "A[]"
   ]
  }
 ],
 "metadata": {
  "kernelspec": {
   "display_name": "Python 3",
   "language": "python",
   "name": "python3"
  },
  "language_info": {
   "codemirror_mode": {
    "name": "ipython",
    "version": 3
   },
   "file_extension": ".py",
   "mimetype": "text/x-python",
   "name": "python",
   "nbconvert_exporter": "python",
   "pygments_lexer": "ipython3",
   "version": "3.9.1"
  }
 },
 "nbformat": 4,
 "nbformat_minor": 5
}
