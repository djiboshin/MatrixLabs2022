{
 "cells": [
  {
   "cell_type": "code",
   "execution_count": 1,
   "id": "d938602c",
   "metadata": {},
   "outputs": [],
   "source": [
    "import numpy as np\n",
    "import numba as nb\n",
    "import matplotlib.pyplot as plt\n",
    "import time"
   ]
  },
  {
   "cell_type": "code",
   "execution_count": 2,
   "id": "335de366",
   "metadata": {},
   "outputs": [],
   "source": [
    "def benchmark(f, n: int or float = 10e5, args: tuple = None, kwargs: dict = None) -> np.array:\n",
    "    if args is None:\n",
    "        args = ()\n",
    "    if kwargs is None:\n",
    "        kwargs = {}\n",
    "    \n",
    "    start = time.process_time()\n",
    "    for _ in range(int(n)):\n",
    "        f(*args, **kwargs)\n",
    "    end = time.process_time()\n",
    "    return (end - start)/n"
   ]
  },
  {
   "cell_type": "code",
   "execution_count": 3,
   "id": "812f5754",
   "metadata": {},
   "outputs": [],
   "source": [
    "def test_matmul(f):\n",
    "    A = np.random.rand(10,2)\n",
    "    B = np.random.rand(2,5)\n",
    "    C = np.zeros((A.shape[0], B.shape[1]))\n",
    "    f(A, B, C)\n",
    "    return np.max(np.abs(np.dot(A, B) - C))\n",
    "\n",
    "def benchmark_matmul(f, Ns, n):\n",
    "    times = []\n",
    "    for N in Ns:\n",
    "        A = np.random.rand(N,N)\n",
    "        B = np.random.rand(N,N)\n",
    "        C = np.zeros((N, N))\n",
    "        times.append(benchmark(f, n, args=(A, B, C)))\n",
    "    return times"
   ]
  },
  {
   "cell_type": "code",
   "execution_count": 4,
   "id": "ae222b5a",
   "metadata": {},
   "outputs": [],
   "source": [
    "class Mul:\n",
    "    def __init__(self, f):\n",
    "        self.f = f\n",
    "        self.ns = []\n",
    "        self.times = []\n",
    "        self.name = f.__name__\n",
    "    \n",
    "    def burn(self, ns, n):\n",
    "        print(test_matmul(self.f))\n",
    "        self.ns = ns\n",
    "        self.times = benchmark_matmul(self.f, self.ns, n)"
   ]
  },
  {
   "cell_type": "code",
   "execution_count": 5,
   "id": "55de8682",
   "metadata": {},
   "outputs": [
    {
     "name": "stdout",
     "output_type": "stream",
     "text": [
      "1.1102230246251565e-16\n"
     ]
    }
   ],
   "source": [
    "def matmul(A, B, C):\n",
    "    N, M = A.shape\n",
    "    K = B.shape[1]\n",
    "    for n in range(N):\n",
    "        for k in range(K):\n",
    "            for m in range(M):\n",
    "                C[n,k] += A[n,m]*B[m,k]\n",
    "\n",
    "matmul = Mul(matmul)\n",
    "matmul.burn(np.logspace(1, 2.05, 10, dtype=int), 4)"
   ]
  },
  {
   "cell_type": "code",
   "execution_count": 6,
   "id": "7eb31156",
   "metadata": {},
   "outputs": [
    {
     "name": "stdout",
     "output_type": "stream",
     "text": [
      "5.551115123125783e-17\n"
     ]
    }
   ],
   "source": [
    "def matmul_other_order(A, B, C):\n",
    "    N, M = A.shape\n",
    "    K = B.shape[1]\n",
    "    for n in range(N):\n",
    "        for m in range(M):\n",
    "            for k in range(K):\n",
    "                C[n,k] += A[n,m]*B[m,k]\n",
    "\n",
    "matmul_other_order = Mul(matmul_other_order)\n",
    "matmul_other_order.burn(np.logspace(1, 2.05, 10, dtype=int), 4)"
   ]
  },
  {
   "cell_type": "code",
   "execution_count": 7,
   "id": "22f77278",
   "metadata": {},
   "outputs": [
    {
     "name": "stdout",
     "output_type": "stream",
     "text": [
      "2.220446049250313e-16\n"
     ]
    }
   ],
   "source": [
    "def matmul_sum(A, B, C):\n",
    "    N, M = A.shape\n",
    "    K = B.shape[1]\n",
    "    for n in range(N):\n",
    "        for k in range(K):\n",
    "            C[n,k] = np.sum(A[n,:]*B[:,k])\n",
    "\n",
    "matmul_sum = Mul(matmul_sum)\n",
    "matmul_sum.burn(np.logspace(1, 2.5, 10, dtype=int), 4)"
   ]
  },
  {
   "cell_type": "code",
   "execution_count": 8,
   "id": "de3284b1",
   "metadata": {},
   "outputs": [
    {
     "name": "stdout",
     "output_type": "stream",
     "text": [
      "0.0\n"
     ]
    }
   ],
   "source": [
    "def matmul_numpy(A, B, C):\n",
    "    C[:,:] = np.dot(A, B)\n",
    "\n",
    "matmul_numpy = Mul(matmul_numpy)\n",
    "matmul_numpy.burn(np.logspace(1, 3.35, 10, dtype=int), 10)"
   ]
  },
  {
   "cell_type": "code",
   "execution_count": 9,
   "id": "7d2a7049",
   "metadata": {},
   "outputs": [
    {
     "name": "stdout",
     "output_type": "stream",
     "text": [
      "1.1102230246251565e-16\n"
     ]
    }
   ],
   "source": [
    "@nb.njit(nb.void(nb.float64[:,:],nb.float64[:,:],nb.float64[:,:]))\n",
    "def matmul_jit(A, B, C):\n",
    "    N, M = A.shape\n",
    "    K = B.shape[1]\n",
    "    for n in range(N):\n",
    "        for k in range(K):\n",
    "            for m in range(M):\n",
    "                C[n,k] += A[n,m]*B[m,k]\n",
    "\n",
    "matmul_jit = Mul(matmul_jit)\n",
    "matmul_jit.burn(np.logspace(1, 2.85, 10, dtype=int), 10)"
   ]
  },
  {
   "cell_type": "code",
   "execution_count": 10,
   "id": "03124502",
   "metadata": {},
   "outputs": [
    {
     "name": "stdout",
     "output_type": "stream",
     "text": [
      "1.1102230246251565e-16\n"
     ]
    }
   ],
   "source": [
    "@nb.njit(nb.void(nb.float64[:,:],nb.float64[:,:],nb.float64[:,:]))\n",
    "def matmul_jit_other_order(A, B, C):\n",
    "    N, M = A.shape\n",
    "    K = B.shape[1]\n",
    "    for n in range(N):\n",
    "        for m in range(M):\n",
    "            for k in range(K):\n",
    "                C[n,k] += A[n,m]*B[m,k]\n",
    "\n",
    "matmul_jit_1 = Mul(matmul_jit_other_order)\n",
    "matmul_jit_1.burn(np.logspace(1, 2.85, 10, dtype=int), 10)"
   ]
  },
  {
   "cell_type": "code",
   "execution_count": 11,
   "id": "9903f464",
   "metadata": {
    "scrolled": true
   },
   "outputs": [
    {
     "name": "stdout",
     "output_type": "stream",
     "text": [
      "1.1102230246251565e-16\n"
     ]
    }
   ],
   "source": [
    "@nb.njit(nb.void(nb.float64[:,:],nb.float64[:,:],nb.float64[:,:]), parallel=True)\n",
    "def matmul_jit_other_order_p(A, B, C):\n",
    "    N, M = A.shape\n",
    "    K = B.shape[1]\n",
    "    for n in nb.prange(N):\n",
    "        for m in nb.prange(M):\n",
    "            for k in nb.prange(K):     \n",
    "                C[n,k] += A[n,m] * B[m,k]\n",
    "\n",
    "\n",
    "matmul_jit_p = Mul(matmul_jit_other_order_p)\n",
    "matmul_jit_p.burn(np.logspace(1, 2.85, 10, dtype=int), 10)"
   ]
  },
  {
   "cell_type": "code",
   "execution_count": 12,
   "id": "17389bdf",
   "metadata": {},
   "outputs": [
    {
     "name": "stdout",
     "output_type": "stream",
     "text": [
      "1.1102230246251565e-16\n"
     ]
    }
   ],
   "source": [
    "@nb.njit(nb.void(nb.float64[:,:],nb.float64[:,:],nb.float64[:,:]), parallel=True, nogil=True, cache=True, )\n",
    "def matmul_test(A, B, C):\n",
    "    N, M = A.shape\n",
    "    K = B.shape[1]\n",
    "    B = B.T\n",
    "    for n in nb.prange(N):\n",
    "        for m in nb.prange(M):\n",
    "            for k in nb.prange(K):\n",
    "                C[n,k] += A[n,m]*B[k,m]\n",
    "            \n",
    "\n",
    "matmul_test = Mul(matmul_test)\n",
    "matmul_test.burn(np.logspace(1, 2.85, 10, dtype=int), 10)"
   ]
  },
  {
   "cell_type": "code",
   "execution_count": 13,
   "id": "75d40544",
   "metadata": {
    "scrolled": true
   },
   "outputs": [
    {
     "name": "stdout",
     "output_type": "stream",
     "text": [
      " \n",
      "================================================================================\n",
      " Parallel Accelerator Optimizing:  Function matmul_test, <ipython-\n",
      "input-12-4782993f7528> (1)  \n",
      "================================================================================\n",
      "\n",
      "\n",
      "Parallel loop listing for  Function matmul_test, <ipython-input-12-4782993f7528> (1) \n",
      "---------------------------------------------------------------------------------------------------------------|loop #ID\n",
      "@nb.njit(nb.void(nb.float64[:,:],nb.float64[:,:],nb.float64[:,:]), parallel=True, nogil=True, cache=True, )    | \n",
      "def matmul_test(A, B, C):                                                                                      | \n",
      "    N, M = A.shape                                                                                             | \n",
      "    K = B.shape[1]                                                                                             | \n",
      "    B = B.T                                                                                                    | \n",
      "    for n in nb.prange(N):-------------------------------------------------------------------------------------| #5\n",
      "        for m in nb.prange(M):---------------------------------------------------------------------------------| #4\n",
      "            for k in nb.prange(K):-----------------------------------------------------------------------------| #3\n",
      "                C[n,k] += A[n,m]*B[k,m]                                                                        | \n",
      "--------------------------------- Fusing loops ---------------------------------\n",
      "Attempting fusion of parallel loops (combines loops with similar properties)...\n",
      "----------------------------- Before Optimisation ------------------------------\n",
      "Parallel region 0:\n",
      "+--5 (parallel)\n",
      "   +--4 (parallel)\n",
      "      +--3 (parallel)\n",
      "\n",
      "\n",
      "--------------------------------------------------------------------------------\n",
      "------------------------------ After Optimisation ------------------------------\n",
      "Parallel region 0:\n",
      "+--5 (parallel)\n",
      "   +--4 (serial)\n",
      "      +--3 (serial)\n",
      "\n",
      "\n",
      " \n",
      "Parallel region 0 (loop #5) had 0 loop(s) fused and 2 loop(s) serialized as part\n",
      " of the larger parallel loop (#5).\n",
      "--------------------------------------------------------------------------------\n",
      "--------------------------------------------------------------------------------\n",
      " \n",
      "---------------------------Loop invariant code motion---------------------------\n",
      "Allocation hoisting:\n",
      "No allocation hoisting found\n",
      "\n",
      "Instruction hoisting:\n",
      "loop #5 has nothing to hoist.\n",
      "No instruction hoisting found\n",
      "--------------------------------------------------------------------------------\n"
     ]
    }
   ],
   "source": [
    "matmul_test.f.parallel_diagnostics(level=4)"
   ]
  },
  {
   "cell_type": "code",
   "execution_count": 14,
   "id": "e32f50ce",
   "metadata": {},
   "outputs": [
    {
     "data": {
      "text/plain": [
       "<matplotlib.legend.Legend at 0x1e53dd8c9a0>"
      ]
     },
     "execution_count": 14,
     "metadata": {},
     "output_type": "execute_result"
    },
    {
     "data": {
      "image/png": "[encoded data removed]",
      "text/plain": [
       "<Figure size 432x288 with 1 Axes>"
      ]
     },
     "metadata": {
      "needs_background": "light"
     },
     "output_type": "display_data"
    }
   ],
   "source": [
    "for m in [matmul, matmul_other_order, matmul_sum, matmul_numpy, matmul_jit, matmul_jit_1, matmul_jit_p, matmul_test]:\n",
    "    plt.plot(m.ns, m.times, label=m.name)\n",
    "plt.legend()"
   ]
  },
  {
   "cell_type": "code",
   "execution_count": null,
   "id": "fitted-burke",
   "metadata": {},
   "outputs": [],
   "source": []
  }
 ],
 "metadata": {
  "kernelspec": {
   "display_name": "Python 3",
   "language": "python",
   "name": "python3"
  },
  "language_info": {
   "codemirror_mode": {
    "name": "ipython",
    "version": 3
   },
   "file_extension": ".py",
   "mimetype": "text/x-python",
   "name": "python",
   "nbconvert_exporter": "python",
   "pygments_lexer": "ipython3",
   "version": "3.9.1"
  }
 },
 "nbformat": 4,
 "nbformat_minor": 5
}
